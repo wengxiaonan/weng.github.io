{
 "cells": [
  {
   "cell_type": "code",
   "execution_count": 96,
   "metadata": {},
   "outputs": [],
   "source": [
    "import ast\n",
    "\n",
    "import numpy as np\n",
    "import pandas as pd\n",
    "import seaborn as sns\n",
    "from tqdm.notebook import tqdm\n",
    "from matplotlib import pyplot as plt\n",
    "%matplotlib inline"
   ]
  },
  {
   "cell_type": "code",
   "execution_count": 2,
   "metadata": {},
   "outputs": [],
   "source": [
    "import os\n",
    "os.chdir(\"..\")"
   ]
  },
  {
   "cell_type": "code",
   "execution_count": 3,
   "metadata": {},
   "outputs": [],
   "source": [
    "%load_ext autoreload\n",
    "%autoreload 2\n",
    "import sys\n",
    "sys.path.append(\"./src\")\n",
    "import data"
   ]
  },
  {
   "cell_type": "markdown",
   "metadata": {},
   "source": [
    "----"
   ]
  },
  {
   "cell_type": "code",
   "execution_count": 4,
   "metadata": {},
   "outputs": [],
   "source": [
    "EXP_CONDITIONS = [\"verb\", \"syntax\"]"
   ]
  },
  {
   "cell_type": "code",
   "execution_count": 5,
   "metadata": {},
   "outputs": [],
   "source": [
    "raw = data.load_raw_results()"
   ]
  },
  {
   "cell_type": "code",
   "execution_count": 6,
   "metadata": {},
   "outputs": [
    {
     "data": {
      "text/plain": [
       "{'condition': 0,\n",
       " 'counterbalance': 0,\n",
       " 'assignmentId': '3S06PH7KSSSUFNCPLD54ZDUN7BU1DK',\n",
       " 'workerId': 'A2GNG7DWHQA6ZZ',\n",
       " 'hitId': '3TD33TP5DLQU7UTCDY2PR432H69ABU',\n",
       " 'currenttrial': 28,\n",
       " 'bonus': 0,\n",
       " 'data': [{'uniqueid': 'A2GNG7DWHQA6ZZ:3S06PH7KSSSUFNCPLD54ZDUN7BU1DK',\n",
       "   'current_trial': 0,\n",
       "   'dateTime': 1584480556313,\n",
       "   'trialdata': {'view_history': '[{\"page_index\":0,\"viewing_time\":9009},{\"page_index\":1,\"viewing_time\":16664}]',\n",
       "    'rt': 25674,\n",
       "    'trial_type': 'instructions',\n",
       "    'trial_index': 0,\n",
       "    'time_elapsed': 25675,\n",
       "    'internal_node_id': '0.0-0.0'}},\n",
       "  {'uniqueid': 'A2GNG7DWHQA6ZZ:3S06PH7KSSSUFNCPLD54ZDUN7BU1DK',\n",
       "   'current_trial': 1,\n",
       "   'dateTime': 1584480560065,\n",
       "   'trialdata': {'rt': 3751,\n",
       "    'responses': '{\"Q0\":\"34\"}',\n",
       "    'trial_type': 'survey-text',\n",
       "    'trial_index': 1,\n",
       "    'time_elapsed': 29427,\n",
       "    'internal_node_id': '0.0-1.0'}},\n",
       "  {'uniqueid': 'A2GNG7DWHQA6ZZ:3S06PH7KSSSUFNCPLD54ZDUN7BU1DK',\n",
       "   'current_trial': 2,\n",
       "   'dateTime': 1584480563377,\n",
       "   'trialdata': {'rt': 3302,\n",
       "    'responses': '{\"Q0\":\"Some college\",\"Q1\":\"Yes\"}',\n",
       "    'trial_type': 'survey-multi-choice',\n",
       "    'trial_index': 2,\n",
       "    'time_elapsed': 32739,\n",
       "    'internal_node_id': '0.0-2.0'}},\n",
       "  {'uniqueid': 'A2GNG7DWHQA6ZZ:3S06PH7KSSSUFNCPLD54ZDUN7BU1DK',\n",
       "   'current_trial': 3,\n",
       "   'dateTime': 1584480570000,\n",
       "   'trialdata': {'view_history': '[{\"page_index\":0,\"viewing_time\":6622}]',\n",
       "    'rt': 6622,\n",
       "    'condition': 'verb',\n",
       "    'stage': 'introduction',\n",
       "    'item_idx': 1,\n",
       "    'verb': 'pull',\n",
       "    'contrast_verbs': ['arrive'],\n",
       "    'nonce_verb': 'twan',\n",
       "    'trial_type': 'instructions',\n",
       "    'trial_index': 3,\n",
       "    'time_elapsed': 39362,\n",
       "    'internal_node_id': '0.0-3.0-0.0'}},\n",
       "  {'uniqueid': 'A2GNG7DWHQA6ZZ:3S06PH7KSSSUFNCPLD54ZDUN7BU1DK',\n",
       "   'current_trial': 4,\n",
       "   'dateTime': 1584480585342,\n",
       "   'trialdata': {'rt': 11338,\n",
       "    'stimulus': \"<p>The Zarf speaker saw the following scene and provided a sentence, but <strong>we've lost everything but the verb they used.</strong> Try to guess what these words mean based on the scene.</p><p class='zarf-sentence' data-verb='pull'><span class='noise'>#####</span> <strong>twanning</strong> <span class='noise'>#####</span> !</p><p>What might <strong>twanning</strong> mean?</p><img class='stim-image' src='https://cs.stanford.edu/people/rak248/VG_100K/2377225.jpg' style='max-height: 300px;' />\",\n",
       "    'key_press': 32,\n",
       "    'condition': 'verb',\n",
       "    'stage': 'train',\n",
       "    'item_idx': 1,\n",
       "    'verb': 'pull',\n",
       "    'contrast_verbs': ['arrive'],\n",
       "    'nonce_verb': 'twan',\n",
       "    'sentence': 'the train is pulling into the station',\n",
       "    'scene': 2377225,\n",
       "    'trial_type': 'delayed-html-keyboard-response',\n",
       "    'trial_index': 4,\n",
       "    'time_elapsed': 54704,\n",
       "    'internal_node_id': '0.0-3.0-1.0'}},\n",
       "  {'uniqueid': 'A2GNG7DWHQA6ZZ:3S06PH7KSSSUFNCPLD54ZDUN7BU1DK',\n",
       "   'current_trial': 5,\n",
       "   'dateTime': 1584480591085,\n",
       "   'trialdata': {'rt': 1489,\n",
       "    'stimulus': \"<p>The Zarf speaker saw the following scene and provided a sentence, but <strong>we've lost everything but the verb they used.</strong> Try to guess what these words mean based on the scene.</p><p class='zarf-sentence' data-verb='pull'><span class='noise'>#####</span> <strong>twanning</strong> <span class='noise'>#####</span> !</p><p>What might <strong>twanning</strong> mean?</p><img class='stim-image' src='https://cs.stanford.edu/people/rak248/VG_100K_2/2407876.jpg' style='max-height: 300px;' />\",\n",
       "    'key_press': 32,\n",
       "    'condition': 'verb',\n",
       "    'stage': 'train',\n",
       "    'item_idx': 1,\n",
       "    'verb': 'pull',\n",
       "    'contrast_verbs': ['arrive'],\n",
       "    'nonce_verb': 'twan',\n",
       "    'sentence': 'the horses are pulling the people',\n",
       "    'scene': 2407876,\n",
       "    'trial_type': 'delayed-html-keyboard-response',\n",
       "    'trial_index': 5,\n",
       "    'time_elapsed': 60447,\n",
       "    'internal_node_id': '0.0-3.0-2.0'}},\n",
       "  {'uniqueid': 'A2GNG7DWHQA6ZZ:3S06PH7KSSSUFNCPLD54ZDUN7BU1DK',\n",
       "   'current_trial': 6,\n",
       "   'dateTime': 1584480598656,\n",
       "   'trialdata': {'rt': 7319,\n",
       "    'response': '81',\n",
       "    'stimulus': \"<div style='margin: auto'><p>You saw the following examples:</p><div class='trial-summary'><p class='zarf-sentence' data-verb='pull'><span class='noise'>#####</span> <strong>twanning</strong> <span class='noise'>#####</span> !</p><img class='stim-image' src='https://cs.stanford.edu/people/rak248/VG_100K/2377225.jpg' style='max-height: 300px;' /></div><div class='trial-summary'><p class='zarf-sentence' data-verb='pull'><span class='noise'>#####</span> <strong>twanning</strong> <span class='noise'>#####</span> !</p><img class='stim-image' src='https://cs.stanford.edu/people/rak248/VG_100K_2/2407876.jpg' style='max-height: 300px;' /></div><br style='clear: left' /><p>Our linguists think that the verb <strong>twan</strong> might have the following English translations, but aren't sure exactly which. Please provide your best guess about the correct mapping.</p></div>\",\n",
       "    'condition': 'verb',\n",
       "    'stage': 'test',\n",
       "    'item_idx': 1,\n",
       "    'verb': 'pull',\n",
       "    'contrast_verbs': ['arrive'],\n",
       "    'nonce_verb': 'twan',\n",
       "    'sentences': ['the train is pulling into the station',\n",
       "     'the horses are pulling the people'],\n",
       "    'scenes': [2377225, 2407876],\n",
       "    'slider_labels': ['pull', 'arrive'],\n",
       "    'trial_type': 'html-slider-response',\n",
       "    'trial_index': 6,\n",
       "    'time_elapsed': 68018,\n",
       "    'internal_node_id': '0.0-3.0-3.0'}},\n",
       "  {'uniqueid': 'A2GNG7DWHQA6ZZ:3S06PH7KSSSUFNCPLD54ZDUN7BU1DK',\n",
       "   'current_trial': 7,\n",
       "   'dateTime': 1584480600080,\n",
       "   'trialdata': {'view_history': '[{\"page_index\":0,\"viewing_time\":1423}]',\n",
       "    'rt': 1423,\n",
       "    'condition': 'verb',\n",
       "    'stage': 'introduction',\n",
       "    'item_idx': 3,\n",
       "    'verb': 'clean',\n",
       "    'contrast_verbs': ['wear'],\n",
       "    'nonce_verb': 'smill',\n",
       "    'trial_type': 'instructions',\n",
       "    'trial_index': 7,\n",
       "    'time_elapsed': 69442,\n",
       "    'internal_node_id': '0.0-4.0-0.0'}},\n",
       "  {'uniqueid': 'A2GNG7DWHQA6ZZ:3S06PH7KSSSUFNCPLD54ZDUN7BU1DK',\n",
       "   'current_trial': 8,\n",
       "   'dateTime': 1584480605039,\n",
       "   'trialdata': {'rt': 956,\n",
       "    'stimulus': \"<p>The Zarf speaker saw the following scene and provided a sentence, but <strong>we've lost everything but the verb they used.</strong> Try to guess what these words mean based on the scene.</p><p class='zarf-sentence' data-verb='clean'><span class='noise'>#####</span> <strong>smilled</strong> <span class='noise'>#####</span> !</p><p>What might <strong>smilled</strong> mean?</p><img class='stim-image' src='https://cs.stanford.edu/people/rak248/VG_100K_2/2387058.jpg' style='max-height: 300px;' />\",\n",
       "    'key_press': 32,\n",
       "    'condition': 'verb',\n",
       "    'stage': 'train',\n",
       "    'item_idx': 3,\n",
       "    'verb': 'clean',\n",
       "    'contrast_verbs': ['wear'],\n",
       "    'nonce_verb': 'smill',\n",
       "    'sentence': 'the oven is being cleaned',\n",
       "    'scene': 2387058,\n",
       "    'trial_type': 'delayed-html-keyboard-response',\n",
       "    'trial_index': 8,\n",
       "    'time_elapsed': 74401,\n",
       "    'internal_node_id': '0.0-4.0-1.0'}},\n",
       "  {'uniqueid': 'A2GNG7DWHQA6ZZ:3S06PH7KSSSUFNCPLD54ZDUN7BU1DK',\n",
       "   'current_trial': 9,\n",
       "   'dateTime': 1584480610861,\n",
       "   'trialdata': {'rt': 1568,\n",
       "    'stimulus': \"<p>The Zarf speaker saw the following scene and provided a sentence, but <strong>we've lost everything but the verb they used.</strong> Try to guess what these words mean based on the scene.</p><p class='zarf-sentence' data-verb='clean'><span class='noise'>#####</span> <strong>smilling</strong> <span class='noise'>#####</span> !</p><p>What might <strong>smilling</strong> mean?</p><img class='stim-image' src='https://cs.stanford.edu/people/rak248/VG_100K_2/2414257.jpg' style='max-height: 300px;' />\",\n",
       "    'key_press': 32,\n",
       "    'condition': 'verb',\n",
       "    'stage': 'train',\n",
       "    'item_idx': 3,\n",
       "    'verb': 'clean',\n",
       "    'contrast_verbs': ['wear'],\n",
       "    'nonce_verb': 'smill',\n",
       "    'sentence': 'the woman is cleaning',\n",
       "    'scene': 2414257,\n",
       "    'trial_type': 'delayed-html-keyboard-response',\n",
       "    'trial_index': 9,\n",
       "    'time_elapsed': 80223,\n",
       "    'internal_node_id': '0.0-4.0-2.0'}},\n",
       "  {'uniqueid': 'A2GNG7DWHQA6ZZ:3S06PH7KSSSUFNCPLD54ZDUN7BU1DK',\n",
       "   'current_trial': 10,\n",
       "   'dateTime': 1584480615864,\n",
       "   'trialdata': {'rt': 4751,\n",
       "    'response': '100',\n",
       "    'stimulus': \"<div style='margin: auto'><p>You saw the following examples:</p><div class='trial-summary'><p class='zarf-sentence' data-verb='clean'><span class='noise'>#####</span> <strong>smilled</strong> <span class='noise'>#####</span> !</p><img class='stim-image' src='https://cs.stanford.edu/people/rak248/VG_100K_2/2387058.jpg' style='max-height: 300px;' /></div><div class='trial-summary'><p class='zarf-sentence' data-verb='clean'><span class='noise'>#####</span> <strong>smilling</strong> <span class='noise'>#####</span> !</p><img class='stim-image' src='https://cs.stanford.edu/people/rak248/VG_100K_2/2414257.jpg' style='max-height: 300px;' /></div><br style='clear: left' /><p>Our linguists think that the verb <strong>smill</strong> might have the following English translations, but aren't sure exactly which. Please provide your best guess about the correct mapping.</p></div>\",\n",
       "    'condition': 'verb',\n",
       "    'stage': 'test',\n",
       "    'item_idx': 3,\n",
       "    'verb': 'clean',\n",
       "    'contrast_verbs': ['wear'],\n",
       "    'nonce_verb': 'smill',\n",
       "    'sentences': ['the oven is being cleaned', 'the woman is cleaning'],\n",
       "    'scenes': [2387058, 2414257],\n",
       "    'slider_labels': ['wear', 'clean'],\n",
       "    'trial_type': 'html-slider-response',\n",
       "    'trial_index': 10,\n",
       "    'time_elapsed': 85226,\n",
       "    'internal_node_id': '0.0-4.0-3.0'}},\n",
       "  {'uniqueid': 'A2GNG7DWHQA6ZZ:3S06PH7KSSSUFNCPLD54ZDUN7BU1DK',\n",
       "   'current_trial': 11,\n",
       "   'dateTime': 1584480616976,\n",
       "   'trialdata': {'view_history': '[{\"page_index\":0,\"viewing_time\":1112}]',\n",
       "    'rt': 1112,\n",
       "    'condition': 'verb',\n",
       "    'stage': 'introduction',\n",
       "    'item_idx': 8,\n",
       "    'verb': 'run',\n",
       "    'contrast_verbs': ['stand'],\n",
       "    'nonce_verb': 'fisk',\n",
       "    'trial_type': 'instructions',\n",
       "    'trial_index': 11,\n",
       "    'time_elapsed': 86338,\n",
       "    'internal_node_id': '0.0-5.0-0.0'}},\n",
       "  {'uniqueid': 'A2GNG7DWHQA6ZZ:3S06PH7KSSSUFNCPLD54ZDUN7BU1DK',\n",
       "   'current_trial': 12,\n",
       "   'dateTime': 1584480622925,\n",
       "   'trialdata': {'rt': 1946,\n",
       "    'stimulus': \"<p>The Zarf speaker saw the following scene and provided a sentence, but <strong>we've lost everything but the verb they used.</strong> Try to guess what these words mean based on the scene.</p><p class='zarf-sentence' data-verb='run'><span class='noise'>#####</span> <strong>fisking</strong> <span class='noise'>#####</span> !</p><p>What might <strong>fisking</strong> mean?</p><img class='stim-image' src='https://cs.stanford.edu/people/rak248/VG_100K/2329261.jpg' style='max-height: 300px;' />\",\n",
       "    'key_press': 32,\n",
       "    'condition': 'verb',\n",
       "    'stage': 'train',\n",
       "    'item_idx': 8,\n",
       "    'verb': 'run',\n",
       "    'contrast_verbs': ['stand'],\n",
       "    'nonce_verb': 'fisk',\n",
       "    'sentence': 'the animal is running into the water',\n",
       "    'scene': 2329261,\n",
       "    'trial_type': 'delayed-html-keyboard-response',\n",
       "    'trial_index': 12,\n",
       "    'time_elapsed': 92287,\n",
       "    'internal_node_id': '0.0-5.0-1.0'}},\n",
       "  {'uniqueid': 'A2GNG7DWHQA6ZZ:3S06PH7KSSSUFNCPLD54ZDUN7BU1DK',\n",
       "   'current_trial': 13,\n",
       "   'dateTime': 1584480627833,\n",
       "   'trialdata': {'rt': 655,\n",
       "    'stimulus': \"<p>The Zarf speaker saw the following scene and provided a sentence, but <strong>we've lost everything but the verb they used.</strong> Try to guess what these words mean based on the scene.</p><p class='zarf-sentence' data-verb='run'><span class='noise'>#####</span> <strong>fisking</strong> <span class='noise'>#####</span> !</p><p>What might <strong>fisking</strong> mean?</p><img class='stim-image' src='https://cs.stanford.edu/people/rak248/VG_100K_2/2402402.jpg' style='max-height: 300px;' />\",\n",
       "    'key_press': 32,\n",
       "    'condition': 'verb',\n",
       "    'stage': 'train',\n",
       "    'item_idx': 8,\n",
       "    'verb': 'run',\n",
       "    'contrast_verbs': ['stand'],\n",
       "    'nonce_verb': 'fisk',\n",
       "    'sentence': 'the bird is running with its kin during the day',\n",
       "    'scene': 2402402,\n",
       "    'trial_type': 'delayed-html-keyboard-response',\n",
       "    'trial_index': 13,\n",
       "    'time_elapsed': 97195,\n",
       "    'internal_node_id': '0.0-5.0-2.0'}},\n",
       "  {'uniqueid': 'A2GNG7DWHQA6ZZ:3S06PH7KSSSUFNCPLD54ZDUN7BU1DK',\n",
       "   'current_trial': 14,\n",
       "   'dateTime': 1584480636576,\n",
       "   'trialdata': {'rt': 8490,\n",
       "    'response': '21',\n",
       "    'stimulus': \"<div style='margin: auto'><p>You saw the following examples:</p><div class='trial-summary'><p class='zarf-sentence' data-verb='run'><span class='noise'>#####</span> <strong>fisking</strong> <span class='noise'>#####</span> !</p><img class='stim-image' src='https://cs.stanford.edu/people/rak248/VG_100K/2329261.jpg' style='max-height: 300px;' /></div><div class='trial-summary'><p class='zarf-sentence' data-verb='run'><span class='noise'>#####</span> <strong>fisking</strong> <span class='noise'>#####</span> !</p><img class='stim-image' src='https://cs.stanford.edu/people/rak248/VG_100K_2/2402402.jpg' style='max-height: 300px;' /></div><br style='clear: left' /><p>Our linguists think that the verb <strong>fisk</strong> might have the following English translations, but aren't sure exactly which. Please provide your best guess about the correct mapping.</p></div>\",\n",
       "    'condition': 'verb',\n",
       "    'stage': 'test',\n",
       "    'item_idx': 8,\n",
       "    'verb': 'run',\n",
       "    'contrast_verbs': ['stand'],\n",
       "    'nonce_verb': 'fisk',\n",
       "    'sentences': ['the animal is running into the water',\n",
       "     'the bird is running with its kin during the day'],\n",
       "    'scenes': [2329261, 2402402],\n",
       "    'slider_labels': ['stand', 'run'],\n",
       "    'trial_type': 'html-slider-response',\n",
       "    'trial_index': 14,\n",
       "    'time_elapsed': 105938,\n",
       "    'internal_node_id': '0.0-5.0-3.0'}},\n",
       "  {'uniqueid': 'A2GNG7DWHQA6ZZ:3S06PH7KSSSUFNCPLD54ZDUN7BU1DK',\n",
       "   'current_trial': 15,\n",
       "   'dateTime': 1584480637744,\n",
       "   'trialdata': {'view_history': '[{\"page_index\":0,\"viewing_time\":1167}]',\n",
       "    'rt': 1167,\n",
       "    'condition': 'syntax',\n",
       "    'stage': 'introduction',\n",
       "    'item_idx': 12,\n",
       "    'verb': 'swing',\n",
       "    'contrast_verbs': ['watch'],\n",
       "    'nonce_verb': 'flust',\n",
       "    'trial_type': 'instructions',\n",
       "    'trial_index': 15,\n",
       "    'time_elapsed': 107106,\n",
       "    'internal_node_id': '0.0-6.0-0.0'}},\n",
       "  {'uniqueid': 'A2GNG7DWHQA6ZZ:3S06PH7KSSSUFNCPLD54ZDUN7BU1DK',\n",
       "   'current_trial': 16,\n",
       "   'dateTime': 1584480642174,\n",
       "   'trialdata': {'rt': 428,\n",
       "    'stimulus': \"<p>The Zarf speaker saw the following scene and described it with the sentence:</p><p class='zarf-sentence' data-verb='swing'>the snep is <strong>flusting</strong> at the teeve</p><p>What might <strong>flusting</strong> mean?</p><img class='stim-image' src='https://cs.stanford.edu/people/rak248/VG_100K_2/2417425.jpg' style='max-height: 300px;' />\",\n",
       "    'key_press': 32,\n",
       "    'condition': 'syntax',\n",
       "    'stage': 'train',\n",
       "    'item_idx': 12,\n",
       "    'verb': 'swing',\n",
       "    'contrast_verbs': ['watch'],\n",
       "    'nonce_verb': 'flust',\n",
       "    'sentence': 'the woman is swinging at the ball',\n",
       "    'scene': 2417425,\n",
       "    'trial_type': 'delayed-html-keyboard-response',\n",
       "    'trial_index': 16,\n",
       "    'time_elapsed': 111536,\n",
       "    'internal_node_id': '0.0-6.0-1.0'}},\n",
       "  {'uniqueid': 'A2GNG7DWHQA6ZZ:3S06PH7KSSSUFNCPLD54ZDUN7BU1DK',\n",
       "   'current_trial': 17,\n",
       "   'dateTime': 1584480646788,\n",
       "   'trialdata': {'rt': 360,\n",
       "    'stimulus': \"<p>The Zarf speaker saw the following scene and described it with the sentence:</p><p class='zarf-sentence' data-verb='swing'>the shramp is <strong>flusting</strong> at the teeve during the snoss</p><p>What might <strong>flusting</strong> mean?</p><img class='stim-image' src='https://cs.stanford.edu/people/rak248/VG_100K/2361513.jpg' style='max-height: 300px;' />\",\n",
       "    'key_press': 32,\n",
       "    'condition': 'syntax',\n",
       "    'stage': 'train',\n",
       "    'item_idx': 12,\n",
       "    'verb': 'swing',\n",
       "    'contrast_verbs': ['watch'],\n",
       "    'nonce_verb': 'flust',\n",
       "    'sentence': 'the man is swinging at the ball during the game',\n",
       "    'scene': 2361513,\n",
       "    'trial_type': 'delayed-html-keyboard-response',\n",
       "    'trial_index': 17,\n",
       "    'time_elapsed': 116150,\n",
       "    'internal_node_id': '0.0-6.0-2.0'}},\n",
       "  {'uniqueid': 'A2GNG7DWHQA6ZZ:3S06PH7KSSSUFNCPLD54ZDUN7BU1DK',\n",
       "   'current_trial': 18,\n",
       "   'dateTime': 1584480650320,\n",
       "   'trialdata': {'rt': 3278,\n",
       "    'response': '78',\n",
       "    'stimulus': \"<div style='margin: auto'><p>You saw the following examples:</p><div class='trial-summary'><p class='zarf-sentence' data-verb='swing'>the snep is <strong>flusting</strong> at the teeve</p><img class='stim-image' src='https://cs.stanford.edu/people/rak248/VG_100K_2/2417425.jpg' style='max-height: 300px;' /></div><div class='trial-summary'><p class='zarf-sentence' data-verb='swing'>the shramp is <strong>flusting</strong> at the teeve during the snoss</p><img class='stim-image' src='https://cs.stanford.edu/people/rak248/VG_100K/2361513.jpg' style='max-height: 300px;' /></div><br style='clear: left' /><p>Our linguists think that the verb <strong>flust</strong> might have the following English translations, but aren't sure exactly which. Please provide your best guess about the correct mapping.</p></div>\",\n",
       "    'condition': 'syntax',\n",
       "    'stage': 'test',\n",
       "    'item_idx': 12,\n",
       "    'verb': 'swing',\n",
       "    'contrast_verbs': ['watch'],\n",
       "    'nonce_verb': 'flust',\n",
       "    'sentences': ['the woman is swinging at the ball',\n",
       "     'the man is swinging at the ball during the game'],\n",
       "    'scenes': [2417425, 2361513],\n",
       "    'slider_labels': ['watch', 'swing'],\n",
       "    'trial_type': 'html-slider-response',\n",
       "    'trial_index': 18,\n",
       "    'time_elapsed': 119682,\n",
       "    'internal_node_id': '0.0-6.0-3.0'}},\n",
       "  {'uniqueid': 'A2GNG7DWHQA6ZZ:3S06PH7KSSSUFNCPLD54ZDUN7BU1DK',\n",
       "   'current_trial': 19,\n",
       "   'dateTime': 1584480651408,\n",
       "   'trialdata': {'view_history': '[{\"page_index\":0,\"viewing_time\":1087}]',\n",
       "    'rt': 1088,\n",
       "    'condition': 'verb',\n",
       "    'stage': 'introduction',\n",
       "    'item_idx': 13,\n",
       "    'verb': 'jump',\n",
       "    'contrast_verbs': ['sit'],\n",
       "    'nonce_verb': 'cown',\n",
       "    'trial_type': 'instructions',\n",
       "    'trial_index': 19,\n",
       "    'time_elapsed': 120770,\n",
       "    'internal_node_id': '0.0-7.0-0.0'}},\n",
       "  {'uniqueid': 'A2GNG7DWHQA6ZZ:3S06PH7KSSSUFNCPLD54ZDUN7BU1DK',\n",
       "   'current_trial': 20,\n",
       "   'dateTime': 1584480655789,\n",
       "   'trialdata': {'rt': 378,\n",
       "    'stimulus': \"<p>The Zarf speaker saw the following scene and provided a sentence, but <strong>we've lost everything but the verb they used.</strong> Try to guess what these words mean based on the scene.</p><p class='zarf-sentence' data-verb='jump'><span class='noise'>#####</span> <strong>cowning</strong> <span class='noise'>#####</span> !</p><p>What might <strong>cowning</strong> mean?</p><img class='stim-image' src='https://cs.stanford.edu/people/rak248/VG_100K_2/2400445.jpg' style='max-height: 300px;' />\",\n",
       "    'key_press': 32,\n",
       "    'condition': 'verb',\n",
       "    'stage': 'train',\n",
       "    'item_idx': 13,\n",
       "    'verb': 'jump',\n",
       "    'contrast_verbs': ['sit'],\n",
       "    'nonce_verb': 'cown',\n",
       "    'sentence': 'the horse is jumping over the barrier',\n",
       "    'scene': 2400445,\n",
       "    'trial_type': 'delayed-html-keyboard-response',\n",
       "    'trial_index': 20,\n",
       "    'time_elapsed': 125151,\n",
       "    'internal_node_id': '0.0-7.0-1.0'}},\n",
       "  {'uniqueid': 'A2GNG7DWHQA6ZZ:3S06PH7KSSSUFNCPLD54ZDUN7BU1DK',\n",
       "   'current_trial': 21,\n",
       "   'dateTime': 1584480660810,\n",
       "   'trialdata': {'rt': 768,\n",
       "    'stimulus': \"<p>The Zarf speaker saw the following scene and provided a sentence, but <strong>we've lost everything but the verb they used.</strong> Try to guess what these words mean based on the scene.</p><p class='zarf-sentence' data-verb='jump'><span class='noise'>#####</span> <strong>cowning</strong> <span class='noise'>#####</span> !</p><p>What might <strong>cowning</strong> mean?</p><img class='stim-image' src='https://cs.stanford.edu/people/rak248/VG_100K/2341401.jpg' style='max-height: 300px;' />\",\n",
       "    'key_press': 32,\n",
       "    'condition': 'verb',\n",
       "    'stage': 'train',\n",
       "    'item_idx': 13,\n",
       "    'verb': 'jump',\n",
       "    'contrast_verbs': ['sit'],\n",
       "    'nonce_verb': 'cown',\n",
       "    'sentence': 'the dog is jumping for the frisbee',\n",
       "    'scene': 2341401,\n",
       "    'trial_type': 'delayed-html-keyboard-response',\n",
       "    'trial_index': 21,\n",
       "    'time_elapsed': 130172,\n",
       "    'internal_node_id': '0.0-7.0-2.0'}},\n",
       "  {'uniqueid': 'A2GNG7DWHQA6ZZ:3S06PH7KSSSUFNCPLD54ZDUN7BU1DK',\n",
       "   'current_trial': 22,\n",
       "   'dateTime': 1584480663912,\n",
       "   'trialdata': {'rt': 2849,\n",
       "    'response': '0',\n",
       "    'stimulus': \"<div style='margin: auto'><p>You saw the following examples:</p><div class='trial-summary'><p class='zarf-sentence' data-verb='jump'><span class='noise'>#####</span> <strong>cowning</strong> <span class='noise'>#####</span> !</p><img class='stim-image' src='https://cs.stanford.edu/people/rak248/VG_100K_2/2400445.jpg' style='max-height: 300px;' /></div><div class='trial-summary'><p class='zarf-sentence' data-verb='jump'><span class='noise'>#####</span> <strong>cowning</strong> <span class='noise'>#####</span> !</p><img class='stim-image' src='https://cs.stanford.edu/people/rak248/VG_100K/2341401.jpg' style='max-height: 300px;' /></div><br style='clear: left' /><p>Our linguists think that the verb <strong>cown</strong> might have the following English translations, but aren't sure exactly which. Please provide your best guess about the correct mapping.</p></div>\",\n",
       "    'condition': 'verb',\n",
       "    'stage': 'test',\n",
       "    'item_idx': 13,\n",
       "    'verb': 'jump',\n",
       "    'contrast_verbs': ['sit'],\n",
       "    'nonce_verb': 'cown',\n",
       "    'sentences': ['the horse is jumping over the barrier',\n",
       "     'the dog is jumping for the frisbee'],\n",
       "    'scenes': [2400445, 2341401],\n",
       "    'slider_labels': ['jump', 'sit'],\n",
       "    'trial_type': 'html-slider-response',\n",
       "    'trial_index': 22,\n",
       "    'time_elapsed': 133274,\n",
       "    'internal_node_id': '0.0-7.0-3.0'}},\n",
       "  {'uniqueid': 'A2GNG7DWHQA6ZZ:3S06PH7KSSSUFNCPLD54ZDUN7BU1DK',\n",
       "   'current_trial': 23,\n",
       "   'dateTime': 1584480665184,\n",
       "   'trialdata': {'view_history': '[{\"page_index\":0,\"viewing_time\":1271}]',\n",
       "    'rt': 1272,\n",
       "    'condition': 'verb',\n",
       "    'stage': 'introduction',\n",
       "    'item_idx': 14,\n",
       "    'verb': 'float',\n",
       "    'contrast_verbs': ['fly'],\n",
       "    'nonce_verb': 'plome',\n",
       "    'trial_type': 'instructions',\n",
       "    'trial_index': 23,\n",
       "    'time_elapsed': 134546,\n",
       "    'internal_node_id': '0.0-8.0-0.0'}},\n",
       "  {'uniqueid': 'A2GNG7DWHQA6ZZ:3S06PH7KSSSUFNCPLD54ZDUN7BU1DK',\n",
       "   'current_trial': 24,\n",
       "   'dateTime': 1584480669595,\n",
       "   'trialdata': {'rt': 409,\n",
       "    'stimulus': \"<p>The Zarf speaker saw the following scene and provided a sentence, but <strong>we've lost everything but the verb they used.</strong> Try to guess what these words mean based on the scene.</p><p class='zarf-sentence' data-verb='float'><span class='noise'>#####</span> <strong>ploming</strong> <span class='noise'>#####</span> !</p><p>What might <strong>ploming</strong> mean?</p><img class='stim-image' src='https://cs.stanford.edu/people/rak248/VG_100K_2/2403717.jpg' style='max-height: 300px;' />\",\n",
       "    'key_press': 32,\n",
       "    'condition': 'verb',\n",
       "    'stage': 'train',\n",
       "    'item_idx': 14,\n",
       "    'verb': 'float',\n",
       "    'contrast_verbs': ['fly'],\n",
       "    'nonce_verb': 'plome',\n",
       "    'sentence': 'the kites are floating across the field',\n",
       "    'scene': 2403717,\n",
       "    'trial_type': 'delayed-html-keyboard-response',\n",
       "    'trial_index': 24,\n",
       "    'time_elapsed': 138956,\n",
       "    'internal_node_id': '0.0-8.0-1.0'}},\n",
       "  {'uniqueid': 'A2GNG7DWHQA6ZZ:3S06PH7KSSSUFNCPLD54ZDUN7BU1DK',\n",
       "   'current_trial': 25,\n",
       "   'dateTime': 1584480679329,\n",
       "   'trialdata': {'rt': 5481,\n",
       "    'stimulus': \"<p>The Zarf speaker saw the following scene and provided a sentence, but <strong>we've lost everything but the verb they used.</strong> Try to guess what these words mean based on the scene.</p><p class='zarf-sentence' data-verb='float'><span class='noise'>#####</span> <strong>ploming</strong> <span class='noise'>#####</span> !</p><p>What might <strong>ploming</strong> mean?</p><img class='stim-image' src='https://cs.stanford.edu/people/rak248/VG_100K_2/2402326.jpg' style='max-height: 300px;' />\",\n",
       "    'key_press': 32,\n",
       "    'condition': 'verb',\n",
       "    'stage': 'train',\n",
       "    'item_idx': 14,\n",
       "    'verb': 'float',\n",
       "    'contrast_verbs': ['fly'],\n",
       "    'nonce_verb': 'plome',\n",
       "    'sentence': 'the plane is floating in the clouds',\n",
       "    'scene': 2402326,\n",
       "    'trial_type': 'delayed-html-keyboard-response',\n",
       "    'trial_index': 25,\n",
       "    'time_elapsed': 148690,\n",
       "    'internal_node_id': '0.0-8.0-2.0'}},\n",
       "  {'uniqueid': 'A2GNG7DWHQA6ZZ:3S06PH7KSSSUFNCPLD54ZDUN7BU1DK',\n",
       "   'current_trial': 26,\n",
       "   'dateTime': 1584480683584,\n",
       "   'trialdata': {'rt': 4003,\n",
       "    'response': '29',\n",
       "    'stimulus': \"<div style='margin: auto'><p>You saw the following examples:</p><div class='trial-summary'><p class='zarf-sentence' data-verb='float'><span class='noise'>#####</span> <strong>ploming</strong> <span class='noise'>#####</span> !</p><img class='stim-image' src='https://cs.stanford.edu/people/rak248/VG_100K_2/2403717.jpg' style='max-height: 300px;' /></div><div class='trial-summary'><p class='zarf-sentence' data-verb='float'><span class='noise'>#####</span> <strong>ploming</strong> <span class='noise'>#####</span> !</p><img class='stim-image' src='https://cs.stanford.edu/people/rak248/VG_100K_2/2402326.jpg' style='max-height: 300px;' /></div><br style='clear: left' /><p>Our linguists think that the verb <strong>plome</strong> might have the following English translations, but aren't sure exactly which. Please provide your best guess about the correct mapping.</p></div>\",\n",
       "    'condition': 'verb',\n",
       "    'stage': 'test',\n",
       "    'item_idx': 14,\n",
       "    'verb': 'float',\n",
       "    'contrast_verbs': ['fly'],\n",
       "    'nonce_verb': 'plome',\n",
       "    'sentences': ['the kites are floating across the field',\n",
       "     'the plane is floating in the clouds'],\n",
       "    'scenes': [2403717, 2402326],\n",
       "    'slider_labels': ['fly', 'float'],\n",
       "    'trial_type': 'html-slider-response',\n",
       "    'trial_index': 26,\n",
       "    'time_elapsed': 152946,\n",
       "    'internal_node_id': '0.0-8.0-3.0'}},\n",
       "  {'uniqueid': 'A2GNG7DWHQA6ZZ:3S06PH7KSSSUFNCPLD54ZDUN7BU1DK',\n",
       "   'current_trial': 27,\n",
       "   'dateTime': 1584480688080,\n",
       "   'trialdata': {'rt': 4495,\n",
       "    'responses': '{\"Q0\":\"\"}',\n",
       "    'trial_type': 'survey-text',\n",
       "    'trial_index': 27,\n",
       "    'time_elapsed': 157442,\n",
       "    'internal_node_id': '0.0-9.0'}}],\n",
       " 'questiondata': {},\n",
       " 'eventdata': [{'eventtype': 'initialized',\n",
       "   'value': None,\n",
       "   'timestamp': 1584480527639,\n",
       "   'interval': 0},\n",
       "  {'eventtype': 'window_resize',\n",
       "   'value': [1504, 700],\n",
       "   'timestamp': 1584480527639,\n",
       "   'interval': 0},\n",
       "  {'eventtype': 'focus',\n",
       "   'value': 'off',\n",
       "   'timestamp': 1584480527930,\n",
       "   'interval': 291},\n",
       "  {'eventtype': 'focus',\n",
       "   'value': 'on',\n",
       "   'timestamp': 1584480528993,\n",
       "   'interval': 1063}],\n",
       " 'useragent': 'Mozilla/5.0 (Windows NT 10.0; Win64; x64) AppleWebKit/537.36 (KHTML, like Gecko) Chrome/80.0.3987.122 Safari/537.36',\n",
       " 'mode': 'live'}"
      ]
     },
     "execution_count": 6,
     "metadata": {},
     "output_type": "execute_result"
    }
   ],
   "source": [
    "import json\n",
    "json.loads(raw.iloc[6].datastring)"
   ]
  },
  {
   "cell_type": "code",
   "execution_count": 40,
   "metadata": {},
   "outputs": [
    {
     "name": "stderr",
     "output_type": "stream",
     "text": [
      "Missing datastring for uid A3U6IA3JUSFZ2M:39LOEL67OTTE8VUDR9871EVJU4B388. Status was 1.\n",
      "Missing datastring for uid A24B5UF6RMHYGX:34Z02EIMIT11PNN4BK1JQCTZ55BT0R. Status was 1.\n",
      "Missing datastring for uid A2JDYN6QM8M5UN:3KXIR214I54O4CBSB64P1SAMM4242E. Status was 1.\n",
      "Missing datastring for uid A3TUCOUVSP9ZGY:3KXIR214I54O4CBSB64P1SAMM4242E. Status was 1.\n",
      "Missing datastring for uid A3A8P4UR9A0DWQ:3FTF2T8WLS6BDYFB6LPN671RCAF9WF. Status was 1.\n",
      "Missing datastring for uid AETIZKQNUSBLB:3VHP9MDGRO8B0A0JSGPE49GZNSSCF1. Status was 1.\n"
     ]
    },
    {
     "data": {
      "text/plain": [
       "(468, 234)"
      ]
     },
     "execution_count": 40,
     "metadata": {},
     "output_type": "execute_result"
    }
   ],
   "source": [
    "trials_df = data.get_trials_df(data.load_raw_results(),\n",
    "                               extract_data_fields=(\"stage\", \"condition\", \"item_idx\", \n",
    "                                                    # test trial data\n",
    "                                                    \"verb\", \"scenes\", \"sentences\", \"slider_labels\", \"response\"))\n",
    "trials_df[\"is_train_trial\"] = trials_df.stage == \"train\"\n",
    "trials_df[\"is_test_trial\"] = trials_df.stage == \"test\"\n",
    "\n",
    "# # Extract train--test sequences\n",
    "# trials_df[\"is_train_trial\"] = False\n",
    "# trials_df[\"is_test_trial\"] = False\n",
    "# trials_df[\"chunk\"] = None\n",
    "# # TODO mark training and test trials more explicitly next time ..\n",
    "# train_trial_idxs, test_trial_idxs = [], []\n",
    "# train_chunks, test_chunks = [], []\n",
    "# for uid, subj_trials in trials_df.groupby(\"uniqueid\"):\n",
    "#     chunk = -1\n",
    "#     for trial_index, trial in subj_trials.sort_index().iterrows():\n",
    "#         if trial.trial_type == \"instructions\" and trial.condition in EXP_CONDITIONS:\n",
    "#             # New chunk.\n",
    "#             chunk += 1\n",
    "#         elif trial.trial_type == \"html-keyboard-response\" or trial.trial_type == \"delayed-html-keyboard-response\":\n",
    "#             # Training trial.\n",
    "#             trials_df.loc[trial_index, [\"is_train_trial\", \"chunk\"]] = True, chunk\n",
    "#         elif trial.trial_type == \"survey-multi-choice\" and chunk >= 0:\n",
    "#             trials_df.loc[trial_index, [\"is_test_trial\", \"chunk\"]] = True, chunk\n",
    "\n",
    "train_trials_df = trials_df[trials_df.is_train_trial]\n",
    "test_trials_df = trials_df[trials_df.is_test_trial]\n",
    "len(train_trials_df), len(test_trials_df)"
   ]
  },
  {
   "cell_type": "code",
   "execution_count": 41,
   "metadata": {},
   "outputs": [
    {
     "data": {
      "text/html": [
       "<div>\n",
       "<style scoped>\n",
       "    .dataframe tbody tr th:only-of-type {\n",
       "        vertical-align: middle;\n",
       "    }\n",
       "\n",
       "    .dataframe tbody tr th {\n",
       "        vertical-align: top;\n",
       "    }\n",
       "\n",
       "    .dataframe thead th {\n",
       "        text-align: right;\n",
       "    }\n",
       "</style>\n",
       "<table border=\"1\" class=\"dataframe\">\n",
       "  <thead>\n",
       "    <tr style=\"text-align: right;\">\n",
       "      <th></th>\n",
       "      <th></th>\n",
       "      <th>condition</th>\n",
       "      <th>counterbalance</th>\n",
       "      <th>assignmentId</th>\n",
       "      <th>workerId</th>\n",
       "      <th>hitId</th>\n",
       "      <th>trial_type</th>\n",
       "      <th>rt</th>\n",
       "      <th>internal_node_id</th>\n",
       "      <th>stage</th>\n",
       "      <th>item_idx</th>\n",
       "      <th>verb</th>\n",
       "      <th>scenes</th>\n",
       "      <th>sentences</th>\n",
       "      <th>slider_labels</th>\n",
       "      <th>response</th>\n",
       "      <th>survey_question_idx</th>\n",
       "      <th>survey_answer</th>\n",
       "      <th>is_train_trial</th>\n",
       "      <th>is_test_trial</th>\n",
       "    </tr>\n",
       "    <tr>\n",
       "      <th>trial_index</th>\n",
       "      <th>uniqueid</th>\n",
       "      <th></th>\n",
       "      <th></th>\n",
       "      <th></th>\n",
       "      <th></th>\n",
       "      <th></th>\n",
       "      <th></th>\n",
       "      <th></th>\n",
       "      <th></th>\n",
       "      <th></th>\n",
       "      <th></th>\n",
       "      <th></th>\n",
       "      <th></th>\n",
       "      <th></th>\n",
       "      <th></th>\n",
       "      <th></th>\n",
       "      <th></th>\n",
       "      <th></th>\n",
       "      <th></th>\n",
       "      <th></th>\n",
       "    </tr>\n",
       "  </thead>\n",
       "  <tbody>\n",
       "    <tr>\n",
       "      <th>4</th>\n",
       "      <th>A270HX8LH9LJ8W:33LK57MYLUTXC8GFQE9LM60ZLTGSZT</th>\n",
       "      <td>syntax</td>\n",
       "      <td>0</td>\n",
       "      <td>33LK57MYLUTXC8GFQE9LM60ZLTGSZT</td>\n",
       "      <td>A270HX8LH9LJ8W</td>\n",
       "      <td>3UL5XDRDNC7EZQJOFQRYSRXFHMN58K</td>\n",
       "      <td>delayed-html-keyboard-response</td>\n",
       "      <td>5039</td>\n",
       "      <td>0.0-3.0-1.0</td>\n",
       "      <td>train</td>\n",
       "      <td>2.0</td>\n",
       "      <td>walk</td>\n",
       "      <td>None</td>\n",
       "      <td>None</td>\n",
       "      <td>None</td>\n",
       "      <td>None</td>\n",
       "      <td>NaN</td>\n",
       "      <td>NaN</td>\n",
       "      <td>True</td>\n",
       "      <td>False</td>\n",
       "    </tr>\n",
       "    <tr>\n",
       "      <th>5</th>\n",
       "      <th>A270HX8LH9LJ8W:33LK57MYLUTXC8GFQE9LM60ZLTGSZT</th>\n",
       "      <td>syntax</td>\n",
       "      <td>0</td>\n",
       "      <td>33LK57MYLUTXC8GFQE9LM60ZLTGSZT</td>\n",
       "      <td>A270HX8LH9LJ8W</td>\n",
       "      <td>3UL5XDRDNC7EZQJOFQRYSRXFHMN58K</td>\n",
       "      <td>delayed-html-keyboard-response</td>\n",
       "      <td>6316</td>\n",
       "      <td>0.0-3.0-2.0</td>\n",
       "      <td>train</td>\n",
       "      <td>2.0</td>\n",
       "      <td>walk</td>\n",
       "      <td>None</td>\n",
       "      <td>None</td>\n",
       "      <td>None</td>\n",
       "      <td>None</td>\n",
       "      <td>NaN</td>\n",
       "      <td>NaN</td>\n",
       "      <td>True</td>\n",
       "      <td>False</td>\n",
       "    </tr>\n",
       "    <tr>\n",
       "      <th>8</th>\n",
       "      <th>A270HX8LH9LJ8W:33LK57MYLUTXC8GFQE9LM60ZLTGSZT</th>\n",
       "      <td>syntax</td>\n",
       "      <td>0</td>\n",
       "      <td>33LK57MYLUTXC8GFQE9LM60ZLTGSZT</td>\n",
       "      <td>A270HX8LH9LJ8W</td>\n",
       "      <td>3UL5XDRDNC7EZQJOFQRYSRXFHMN58K</td>\n",
       "      <td>delayed-html-keyboard-response</td>\n",
       "      <td>1746</td>\n",
       "      <td>0.0-4.0-1.0</td>\n",
       "      <td>train</td>\n",
       "      <td>11.0</td>\n",
       "      <td>carry</td>\n",
       "      <td>None</td>\n",
       "      <td>None</td>\n",
       "      <td>None</td>\n",
       "      <td>None</td>\n",
       "      <td>NaN</td>\n",
       "      <td>NaN</td>\n",
       "      <td>True</td>\n",
       "      <td>False</td>\n",
       "    </tr>\n",
       "    <tr>\n",
       "      <th>9</th>\n",
       "      <th>A270HX8LH9LJ8W:33LK57MYLUTXC8GFQE9LM60ZLTGSZT</th>\n",
       "      <td>syntax</td>\n",
       "      <td>0</td>\n",
       "      <td>33LK57MYLUTXC8GFQE9LM60ZLTGSZT</td>\n",
       "      <td>A270HX8LH9LJ8W</td>\n",
       "      <td>3UL5XDRDNC7EZQJOFQRYSRXFHMN58K</td>\n",
       "      <td>delayed-html-keyboard-response</td>\n",
       "      <td>1191</td>\n",
       "      <td>0.0-4.0-2.0</td>\n",
       "      <td>train</td>\n",
       "      <td>11.0</td>\n",
       "      <td>carry</td>\n",
       "      <td>None</td>\n",
       "      <td>None</td>\n",
       "      <td>None</td>\n",
       "      <td>None</td>\n",
       "      <td>NaN</td>\n",
       "      <td>NaN</td>\n",
       "      <td>True</td>\n",
       "      <td>False</td>\n",
       "    </tr>\n",
       "    <tr>\n",
       "      <th>12</th>\n",
       "      <th>A270HX8LH9LJ8W:33LK57MYLUTXC8GFQE9LM60ZLTGSZT</th>\n",
       "      <td>verb</td>\n",
       "      <td>0</td>\n",
       "      <td>33LK57MYLUTXC8GFQE9LM60ZLTGSZT</td>\n",
       "      <td>A270HX8LH9LJ8W</td>\n",
       "      <td>3UL5XDRDNC7EZQJOFQRYSRXFHMN58K</td>\n",
       "      <td>delayed-html-keyboard-response</td>\n",
       "      <td>2863</td>\n",
       "      <td>0.0-5.0-1.0</td>\n",
       "      <td>train</td>\n",
       "      <td>12.0</td>\n",
       "      <td>watch</td>\n",
       "      <td>None</td>\n",
       "      <td>None</td>\n",
       "      <td>None</td>\n",
       "      <td>None</td>\n",
       "      <td>NaN</td>\n",
       "      <td>NaN</td>\n",
       "      <td>True</td>\n",
       "      <td>False</td>\n",
       "    </tr>\n",
       "    <tr>\n",
       "      <th>13</th>\n",
       "      <th>A270HX8LH9LJ8W:33LK57MYLUTXC8GFQE9LM60ZLTGSZT</th>\n",
       "      <td>verb</td>\n",
       "      <td>0</td>\n",
       "      <td>33LK57MYLUTXC8GFQE9LM60ZLTGSZT</td>\n",
       "      <td>A270HX8LH9LJ8W</td>\n",
       "      <td>3UL5XDRDNC7EZQJOFQRYSRXFHMN58K</td>\n",
       "      <td>delayed-html-keyboard-response</td>\n",
       "      <td>2586</td>\n",
       "      <td>0.0-5.0-2.0</td>\n",
       "      <td>train</td>\n",
       "      <td>12.0</td>\n",
       "      <td>watch</td>\n",
       "      <td>None</td>\n",
       "      <td>None</td>\n",
       "      <td>None</td>\n",
       "      <td>None</td>\n",
       "      <td>NaN</td>\n",
       "      <td>NaN</td>\n",
       "      <td>True</td>\n",
       "      <td>False</td>\n",
       "    </tr>\n",
       "    <tr>\n",
       "      <th>16</th>\n",
       "      <th>A270HX8LH9LJ8W:33LK57MYLUTXC8GFQE9LM60ZLTGSZT</th>\n",
       "      <td>verb</td>\n",
       "      <td>0</td>\n",
       "      <td>33LK57MYLUTXC8GFQE9LM60ZLTGSZT</td>\n",
       "      <td>A270HX8LH9LJ8W</td>\n",
       "      <td>3UL5XDRDNC7EZQJOFQRYSRXFHMN58K</td>\n",
       "      <td>delayed-html-keyboard-response</td>\n",
       "      <td>992</td>\n",
       "      <td>0.0-6.0-1.0</td>\n",
       "      <td>train</td>\n",
       "      <td>15.0</td>\n",
       "      <td>jump</td>\n",
       "      <td>None</td>\n",
       "      <td>None</td>\n",
       "      <td>None</td>\n",
       "      <td>None</td>\n",
       "      <td>NaN</td>\n",
       "      <td>NaN</td>\n",
       "      <td>True</td>\n",
       "      <td>False</td>\n",
       "    </tr>\n",
       "    <tr>\n",
       "      <th>17</th>\n",
       "      <th>A270HX8LH9LJ8W:33LK57MYLUTXC8GFQE9LM60ZLTGSZT</th>\n",
       "      <td>verb</td>\n",
       "      <td>0</td>\n",
       "      <td>33LK57MYLUTXC8GFQE9LM60ZLTGSZT</td>\n",
       "      <td>A270HX8LH9LJ8W</td>\n",
       "      <td>3UL5XDRDNC7EZQJOFQRYSRXFHMN58K</td>\n",
       "      <td>delayed-html-keyboard-response</td>\n",
       "      <td>555</td>\n",
       "      <td>0.0-6.0-2.0</td>\n",
       "      <td>train</td>\n",
       "      <td>15.0</td>\n",
       "      <td>jump</td>\n",
       "      <td>None</td>\n",
       "      <td>None</td>\n",
       "      <td>None</td>\n",
       "      <td>None</td>\n",
       "      <td>NaN</td>\n",
       "      <td>NaN</td>\n",
       "      <td>True</td>\n",
       "      <td>False</td>\n",
       "    </tr>\n",
       "    <tr>\n",
       "      <th>20</th>\n",
       "      <th>A270HX8LH9LJ8W:33LK57MYLUTXC8GFQE9LM60ZLTGSZT</th>\n",
       "      <td>syntax</td>\n",
       "      <td>0</td>\n",
       "      <td>33LK57MYLUTXC8GFQE9LM60ZLTGSZT</td>\n",
       "      <td>A270HX8LH9LJ8W</td>\n",
       "      <td>3UL5XDRDNC7EZQJOFQRYSRXFHMN58K</td>\n",
       "      <td>delayed-html-keyboard-response</td>\n",
       "      <td>1402</td>\n",
       "      <td>0.0-7.0-1.0</td>\n",
       "      <td>train</td>\n",
       "      <td>16.0</td>\n",
       "      <td>sit</td>\n",
       "      <td>None</td>\n",
       "      <td>None</td>\n",
       "      <td>None</td>\n",
       "      <td>None</td>\n",
       "      <td>NaN</td>\n",
       "      <td>NaN</td>\n",
       "      <td>True</td>\n",
       "      <td>False</td>\n",
       "    </tr>\n",
       "    <tr>\n",
       "      <th>21</th>\n",
       "      <th>A270HX8LH9LJ8W:33LK57MYLUTXC8GFQE9LM60ZLTGSZT</th>\n",
       "      <td>syntax</td>\n",
       "      <td>0</td>\n",
       "      <td>33LK57MYLUTXC8GFQE9LM60ZLTGSZT</td>\n",
       "      <td>A270HX8LH9LJ8W</td>\n",
       "      <td>3UL5XDRDNC7EZQJOFQRYSRXFHMN58K</td>\n",
       "      <td>delayed-html-keyboard-response</td>\n",
       "      <td>1267</td>\n",
       "      <td>0.0-7.0-2.0</td>\n",
       "      <td>train</td>\n",
       "      <td>16.0</td>\n",
       "      <td>sit</td>\n",
       "      <td>None</td>\n",
       "      <td>None</td>\n",
       "      <td>None</td>\n",
       "      <td>None</td>\n",
       "      <td>NaN</td>\n",
       "      <td>NaN</td>\n",
       "      <td>True</td>\n",
       "      <td>False</td>\n",
       "    </tr>\n",
       "  </tbody>\n",
       "</table>\n",
       "</div>"
      ],
      "text/plain": [
       "                                                          condition  \\\n",
       "trial_index uniqueid                                                  \n",
       "4           A270HX8LH9LJ8W:33LK57MYLUTXC8GFQE9LM60ZLTGSZT    syntax   \n",
       "5           A270HX8LH9LJ8W:33LK57MYLUTXC8GFQE9LM60ZLTGSZT    syntax   \n",
       "8           A270HX8LH9LJ8W:33LK57MYLUTXC8GFQE9LM60ZLTGSZT    syntax   \n",
       "9           A270HX8LH9LJ8W:33LK57MYLUTXC8GFQE9LM60ZLTGSZT    syntax   \n",
       "12          A270HX8LH9LJ8W:33LK57MYLUTXC8GFQE9LM60ZLTGSZT      verb   \n",
       "13          A270HX8LH9LJ8W:33LK57MYLUTXC8GFQE9LM60ZLTGSZT      verb   \n",
       "16          A270HX8LH9LJ8W:33LK57MYLUTXC8GFQE9LM60ZLTGSZT      verb   \n",
       "17          A270HX8LH9LJ8W:33LK57MYLUTXC8GFQE9LM60ZLTGSZT      verb   \n",
       "20          A270HX8LH9LJ8W:33LK57MYLUTXC8GFQE9LM60ZLTGSZT    syntax   \n",
       "21          A270HX8LH9LJ8W:33LK57MYLUTXC8GFQE9LM60ZLTGSZT    syntax   \n",
       "\n",
       "                                                           counterbalance  \\\n",
       "trial_index uniqueid                                                        \n",
       "4           A270HX8LH9LJ8W:33LK57MYLUTXC8GFQE9LM60ZLTGSZT               0   \n",
       "5           A270HX8LH9LJ8W:33LK57MYLUTXC8GFQE9LM60ZLTGSZT               0   \n",
       "8           A270HX8LH9LJ8W:33LK57MYLUTXC8GFQE9LM60ZLTGSZT               0   \n",
       "9           A270HX8LH9LJ8W:33LK57MYLUTXC8GFQE9LM60ZLTGSZT               0   \n",
       "12          A270HX8LH9LJ8W:33LK57MYLUTXC8GFQE9LM60ZLTGSZT               0   \n",
       "13          A270HX8LH9LJ8W:33LK57MYLUTXC8GFQE9LM60ZLTGSZT               0   \n",
       "16          A270HX8LH9LJ8W:33LK57MYLUTXC8GFQE9LM60ZLTGSZT               0   \n",
       "17          A270HX8LH9LJ8W:33LK57MYLUTXC8GFQE9LM60ZLTGSZT               0   \n",
       "20          A270HX8LH9LJ8W:33LK57MYLUTXC8GFQE9LM60ZLTGSZT               0   \n",
       "21          A270HX8LH9LJ8W:33LK57MYLUTXC8GFQE9LM60ZLTGSZT               0   \n",
       "\n",
       "                                                                             assignmentId  \\\n",
       "trial_index uniqueid                                                                        \n",
       "4           A270HX8LH9LJ8W:33LK57MYLUTXC8GFQE9LM60ZLTGSZT  33LK57MYLUTXC8GFQE9LM60ZLTGSZT   \n",
       "5           A270HX8LH9LJ8W:33LK57MYLUTXC8GFQE9LM60ZLTGSZT  33LK57MYLUTXC8GFQE9LM60ZLTGSZT   \n",
       "8           A270HX8LH9LJ8W:33LK57MYLUTXC8GFQE9LM60ZLTGSZT  33LK57MYLUTXC8GFQE9LM60ZLTGSZT   \n",
       "9           A270HX8LH9LJ8W:33LK57MYLUTXC8GFQE9LM60ZLTGSZT  33LK57MYLUTXC8GFQE9LM60ZLTGSZT   \n",
       "12          A270HX8LH9LJ8W:33LK57MYLUTXC8GFQE9LM60ZLTGSZT  33LK57MYLUTXC8GFQE9LM60ZLTGSZT   \n",
       "13          A270HX8LH9LJ8W:33LK57MYLUTXC8GFQE9LM60ZLTGSZT  33LK57MYLUTXC8GFQE9LM60ZLTGSZT   \n",
       "16          A270HX8LH9LJ8W:33LK57MYLUTXC8GFQE9LM60ZLTGSZT  33LK57MYLUTXC8GFQE9LM60ZLTGSZT   \n",
       "17          A270HX8LH9LJ8W:33LK57MYLUTXC8GFQE9LM60ZLTGSZT  33LK57MYLUTXC8GFQE9LM60ZLTGSZT   \n",
       "20          A270HX8LH9LJ8W:33LK57MYLUTXC8GFQE9LM60ZLTGSZT  33LK57MYLUTXC8GFQE9LM60ZLTGSZT   \n",
       "21          A270HX8LH9LJ8W:33LK57MYLUTXC8GFQE9LM60ZLTGSZT  33LK57MYLUTXC8GFQE9LM60ZLTGSZT   \n",
       "\n",
       "                                                                 workerId  \\\n",
       "trial_index uniqueid                                                        \n",
       "4           A270HX8LH9LJ8W:33LK57MYLUTXC8GFQE9LM60ZLTGSZT  A270HX8LH9LJ8W   \n",
       "5           A270HX8LH9LJ8W:33LK57MYLUTXC8GFQE9LM60ZLTGSZT  A270HX8LH9LJ8W   \n",
       "8           A270HX8LH9LJ8W:33LK57MYLUTXC8GFQE9LM60ZLTGSZT  A270HX8LH9LJ8W   \n",
       "9           A270HX8LH9LJ8W:33LK57MYLUTXC8GFQE9LM60ZLTGSZT  A270HX8LH9LJ8W   \n",
       "12          A270HX8LH9LJ8W:33LK57MYLUTXC8GFQE9LM60ZLTGSZT  A270HX8LH9LJ8W   \n",
       "13          A270HX8LH9LJ8W:33LK57MYLUTXC8GFQE9LM60ZLTGSZT  A270HX8LH9LJ8W   \n",
       "16          A270HX8LH9LJ8W:33LK57MYLUTXC8GFQE9LM60ZLTGSZT  A270HX8LH9LJ8W   \n",
       "17          A270HX8LH9LJ8W:33LK57MYLUTXC8GFQE9LM60ZLTGSZT  A270HX8LH9LJ8W   \n",
       "20          A270HX8LH9LJ8W:33LK57MYLUTXC8GFQE9LM60ZLTGSZT  A270HX8LH9LJ8W   \n",
       "21          A270HX8LH9LJ8W:33LK57MYLUTXC8GFQE9LM60ZLTGSZT  A270HX8LH9LJ8W   \n",
       "\n",
       "                                                                                    hitId  \\\n",
       "trial_index uniqueid                                                                        \n",
       "4           A270HX8LH9LJ8W:33LK57MYLUTXC8GFQE9LM60ZLTGSZT  3UL5XDRDNC7EZQJOFQRYSRXFHMN58K   \n",
       "5           A270HX8LH9LJ8W:33LK57MYLUTXC8GFQE9LM60ZLTGSZT  3UL5XDRDNC7EZQJOFQRYSRXFHMN58K   \n",
       "8           A270HX8LH9LJ8W:33LK57MYLUTXC8GFQE9LM60ZLTGSZT  3UL5XDRDNC7EZQJOFQRYSRXFHMN58K   \n",
       "9           A270HX8LH9LJ8W:33LK57MYLUTXC8GFQE9LM60ZLTGSZT  3UL5XDRDNC7EZQJOFQRYSRXFHMN58K   \n",
       "12          A270HX8LH9LJ8W:33LK57MYLUTXC8GFQE9LM60ZLTGSZT  3UL5XDRDNC7EZQJOFQRYSRXFHMN58K   \n",
       "13          A270HX8LH9LJ8W:33LK57MYLUTXC8GFQE9LM60ZLTGSZT  3UL5XDRDNC7EZQJOFQRYSRXFHMN58K   \n",
       "16          A270HX8LH9LJ8W:33LK57MYLUTXC8GFQE9LM60ZLTGSZT  3UL5XDRDNC7EZQJOFQRYSRXFHMN58K   \n",
       "17          A270HX8LH9LJ8W:33LK57MYLUTXC8GFQE9LM60ZLTGSZT  3UL5XDRDNC7EZQJOFQRYSRXFHMN58K   \n",
       "20          A270HX8LH9LJ8W:33LK57MYLUTXC8GFQE9LM60ZLTGSZT  3UL5XDRDNC7EZQJOFQRYSRXFHMN58K   \n",
       "21          A270HX8LH9LJ8W:33LK57MYLUTXC8GFQE9LM60ZLTGSZT  3UL5XDRDNC7EZQJOFQRYSRXFHMN58K   \n",
       "\n",
       "                                                                               trial_type  \\\n",
       "trial_index uniqueid                                                                        \n",
       "4           A270HX8LH9LJ8W:33LK57MYLUTXC8GFQE9LM60ZLTGSZT  delayed-html-keyboard-response   \n",
       "5           A270HX8LH9LJ8W:33LK57MYLUTXC8GFQE9LM60ZLTGSZT  delayed-html-keyboard-response   \n",
       "8           A270HX8LH9LJ8W:33LK57MYLUTXC8GFQE9LM60ZLTGSZT  delayed-html-keyboard-response   \n",
       "9           A270HX8LH9LJ8W:33LK57MYLUTXC8GFQE9LM60ZLTGSZT  delayed-html-keyboard-response   \n",
       "12          A270HX8LH9LJ8W:33LK57MYLUTXC8GFQE9LM60ZLTGSZT  delayed-html-keyboard-response   \n",
       "13          A270HX8LH9LJ8W:33LK57MYLUTXC8GFQE9LM60ZLTGSZT  delayed-html-keyboard-response   \n",
       "16          A270HX8LH9LJ8W:33LK57MYLUTXC8GFQE9LM60ZLTGSZT  delayed-html-keyboard-response   \n",
       "17          A270HX8LH9LJ8W:33LK57MYLUTXC8GFQE9LM60ZLTGSZT  delayed-html-keyboard-response   \n",
       "20          A270HX8LH9LJ8W:33LK57MYLUTXC8GFQE9LM60ZLTGSZT  delayed-html-keyboard-response   \n",
       "21          A270HX8LH9LJ8W:33LK57MYLUTXC8GFQE9LM60ZLTGSZT  delayed-html-keyboard-response   \n",
       "\n",
       "                                                             rt  \\\n",
       "trial_index uniqueid                                              \n",
       "4           A270HX8LH9LJ8W:33LK57MYLUTXC8GFQE9LM60ZLTGSZT  5039   \n",
       "5           A270HX8LH9LJ8W:33LK57MYLUTXC8GFQE9LM60ZLTGSZT  6316   \n",
       "8           A270HX8LH9LJ8W:33LK57MYLUTXC8GFQE9LM60ZLTGSZT  1746   \n",
       "9           A270HX8LH9LJ8W:33LK57MYLUTXC8GFQE9LM60ZLTGSZT  1191   \n",
       "12          A270HX8LH9LJ8W:33LK57MYLUTXC8GFQE9LM60ZLTGSZT  2863   \n",
       "13          A270HX8LH9LJ8W:33LK57MYLUTXC8GFQE9LM60ZLTGSZT  2586   \n",
       "16          A270HX8LH9LJ8W:33LK57MYLUTXC8GFQE9LM60ZLTGSZT   992   \n",
       "17          A270HX8LH9LJ8W:33LK57MYLUTXC8GFQE9LM60ZLTGSZT   555   \n",
       "20          A270HX8LH9LJ8W:33LK57MYLUTXC8GFQE9LM60ZLTGSZT  1402   \n",
       "21          A270HX8LH9LJ8W:33LK57MYLUTXC8GFQE9LM60ZLTGSZT  1267   \n",
       "\n",
       "                                                          internal_node_id  \\\n",
       "trial_index uniqueid                                                         \n",
       "4           A270HX8LH9LJ8W:33LK57MYLUTXC8GFQE9LM60ZLTGSZT      0.0-3.0-1.0   \n",
       "5           A270HX8LH9LJ8W:33LK57MYLUTXC8GFQE9LM60ZLTGSZT      0.0-3.0-2.0   \n",
       "8           A270HX8LH9LJ8W:33LK57MYLUTXC8GFQE9LM60ZLTGSZT      0.0-4.0-1.0   \n",
       "9           A270HX8LH9LJ8W:33LK57MYLUTXC8GFQE9LM60ZLTGSZT      0.0-4.0-2.0   \n",
       "12          A270HX8LH9LJ8W:33LK57MYLUTXC8GFQE9LM60ZLTGSZT      0.0-5.0-1.0   \n",
       "13          A270HX8LH9LJ8W:33LK57MYLUTXC8GFQE9LM60ZLTGSZT      0.0-5.0-2.0   \n",
       "16          A270HX8LH9LJ8W:33LK57MYLUTXC8GFQE9LM60ZLTGSZT      0.0-6.0-1.0   \n",
       "17          A270HX8LH9LJ8W:33LK57MYLUTXC8GFQE9LM60ZLTGSZT      0.0-6.0-2.0   \n",
       "20          A270HX8LH9LJ8W:33LK57MYLUTXC8GFQE9LM60ZLTGSZT      0.0-7.0-1.0   \n",
       "21          A270HX8LH9LJ8W:33LK57MYLUTXC8GFQE9LM60ZLTGSZT      0.0-7.0-2.0   \n",
       "\n",
       "                                                           stage  item_idx  \\\n",
       "trial_index uniqueid                                                         \n",
       "4           A270HX8LH9LJ8W:33LK57MYLUTXC8GFQE9LM60ZLTGSZT  train       2.0   \n",
       "5           A270HX8LH9LJ8W:33LK57MYLUTXC8GFQE9LM60ZLTGSZT  train       2.0   \n",
       "8           A270HX8LH9LJ8W:33LK57MYLUTXC8GFQE9LM60ZLTGSZT  train      11.0   \n",
       "9           A270HX8LH9LJ8W:33LK57MYLUTXC8GFQE9LM60ZLTGSZT  train      11.0   \n",
       "12          A270HX8LH9LJ8W:33LK57MYLUTXC8GFQE9LM60ZLTGSZT  train      12.0   \n",
       "13          A270HX8LH9LJ8W:33LK57MYLUTXC8GFQE9LM60ZLTGSZT  train      12.0   \n",
       "16          A270HX8LH9LJ8W:33LK57MYLUTXC8GFQE9LM60ZLTGSZT  train      15.0   \n",
       "17          A270HX8LH9LJ8W:33LK57MYLUTXC8GFQE9LM60ZLTGSZT  train      15.0   \n",
       "20          A270HX8LH9LJ8W:33LK57MYLUTXC8GFQE9LM60ZLTGSZT  train      16.0   \n",
       "21          A270HX8LH9LJ8W:33LK57MYLUTXC8GFQE9LM60ZLTGSZT  train      16.0   \n",
       "\n",
       "                                                            verb scenes  \\\n",
       "trial_index uniqueid                                                      \n",
       "4           A270HX8LH9LJ8W:33LK57MYLUTXC8GFQE9LM60ZLTGSZT   walk   None   \n",
       "5           A270HX8LH9LJ8W:33LK57MYLUTXC8GFQE9LM60ZLTGSZT   walk   None   \n",
       "8           A270HX8LH9LJ8W:33LK57MYLUTXC8GFQE9LM60ZLTGSZT  carry   None   \n",
       "9           A270HX8LH9LJ8W:33LK57MYLUTXC8GFQE9LM60ZLTGSZT  carry   None   \n",
       "12          A270HX8LH9LJ8W:33LK57MYLUTXC8GFQE9LM60ZLTGSZT  watch   None   \n",
       "13          A270HX8LH9LJ8W:33LK57MYLUTXC8GFQE9LM60ZLTGSZT  watch   None   \n",
       "16          A270HX8LH9LJ8W:33LK57MYLUTXC8GFQE9LM60ZLTGSZT   jump   None   \n",
       "17          A270HX8LH9LJ8W:33LK57MYLUTXC8GFQE9LM60ZLTGSZT   jump   None   \n",
       "20          A270HX8LH9LJ8W:33LK57MYLUTXC8GFQE9LM60ZLTGSZT    sit   None   \n",
       "21          A270HX8LH9LJ8W:33LK57MYLUTXC8GFQE9LM60ZLTGSZT    sit   None   \n",
       "\n",
       "                                                          sentences  \\\n",
       "trial_index uniqueid                                                  \n",
       "4           A270HX8LH9LJ8W:33LK57MYLUTXC8GFQE9LM60ZLTGSZT      None   \n",
       "5           A270HX8LH9LJ8W:33LK57MYLUTXC8GFQE9LM60ZLTGSZT      None   \n",
       "8           A270HX8LH9LJ8W:33LK57MYLUTXC8GFQE9LM60ZLTGSZT      None   \n",
       "9           A270HX8LH9LJ8W:33LK57MYLUTXC8GFQE9LM60ZLTGSZT      None   \n",
       "12          A270HX8LH9LJ8W:33LK57MYLUTXC8GFQE9LM60ZLTGSZT      None   \n",
       "13          A270HX8LH9LJ8W:33LK57MYLUTXC8GFQE9LM60ZLTGSZT      None   \n",
       "16          A270HX8LH9LJ8W:33LK57MYLUTXC8GFQE9LM60ZLTGSZT      None   \n",
       "17          A270HX8LH9LJ8W:33LK57MYLUTXC8GFQE9LM60ZLTGSZT      None   \n",
       "20          A270HX8LH9LJ8W:33LK57MYLUTXC8GFQE9LM60ZLTGSZT      None   \n",
       "21          A270HX8LH9LJ8W:33LK57MYLUTXC8GFQE9LM60ZLTGSZT      None   \n",
       "\n",
       "                                                          slider_labels  \\\n",
       "trial_index uniqueid                                                      \n",
       "4           A270HX8LH9LJ8W:33LK57MYLUTXC8GFQE9LM60ZLTGSZT          None   \n",
       "5           A270HX8LH9LJ8W:33LK57MYLUTXC8GFQE9LM60ZLTGSZT          None   \n",
       "8           A270HX8LH9LJ8W:33LK57MYLUTXC8GFQE9LM60ZLTGSZT          None   \n",
       "9           A270HX8LH9LJ8W:33LK57MYLUTXC8GFQE9LM60ZLTGSZT          None   \n",
       "12          A270HX8LH9LJ8W:33LK57MYLUTXC8GFQE9LM60ZLTGSZT          None   \n",
       "13          A270HX8LH9LJ8W:33LK57MYLUTXC8GFQE9LM60ZLTGSZT          None   \n",
       "16          A270HX8LH9LJ8W:33LK57MYLUTXC8GFQE9LM60ZLTGSZT          None   \n",
       "17          A270HX8LH9LJ8W:33LK57MYLUTXC8GFQE9LM60ZLTGSZT          None   \n",
       "20          A270HX8LH9LJ8W:33LK57MYLUTXC8GFQE9LM60ZLTGSZT          None   \n",
       "21          A270HX8LH9LJ8W:33LK57MYLUTXC8GFQE9LM60ZLTGSZT          None   \n",
       "\n",
       "                                                          response  \\\n",
       "trial_index uniqueid                                                 \n",
       "4           A270HX8LH9LJ8W:33LK57MYLUTXC8GFQE9LM60ZLTGSZT     None   \n",
       "5           A270HX8LH9LJ8W:33LK57MYLUTXC8GFQE9LM60ZLTGSZT     None   \n",
       "8           A270HX8LH9LJ8W:33LK57MYLUTXC8GFQE9LM60ZLTGSZT     None   \n",
       "9           A270HX8LH9LJ8W:33LK57MYLUTXC8GFQE9LM60ZLTGSZT     None   \n",
       "12          A270HX8LH9LJ8W:33LK57MYLUTXC8GFQE9LM60ZLTGSZT     None   \n",
       "13          A270HX8LH9LJ8W:33LK57MYLUTXC8GFQE9LM60ZLTGSZT     None   \n",
       "16          A270HX8LH9LJ8W:33LK57MYLUTXC8GFQE9LM60ZLTGSZT     None   \n",
       "17          A270HX8LH9LJ8W:33LK57MYLUTXC8GFQE9LM60ZLTGSZT     None   \n",
       "20          A270HX8LH9LJ8W:33LK57MYLUTXC8GFQE9LM60ZLTGSZT     None   \n",
       "21          A270HX8LH9LJ8W:33LK57MYLUTXC8GFQE9LM60ZLTGSZT     None   \n",
       "\n",
       "                                                           survey_question_idx  \\\n",
       "trial_index uniqueid                                                             \n",
       "4           A270HX8LH9LJ8W:33LK57MYLUTXC8GFQE9LM60ZLTGSZT                  NaN   \n",
       "5           A270HX8LH9LJ8W:33LK57MYLUTXC8GFQE9LM60ZLTGSZT                  NaN   \n",
       "8           A270HX8LH9LJ8W:33LK57MYLUTXC8GFQE9LM60ZLTGSZT                  NaN   \n",
       "9           A270HX8LH9LJ8W:33LK57MYLUTXC8GFQE9LM60ZLTGSZT                  NaN   \n",
       "12          A270HX8LH9LJ8W:33LK57MYLUTXC8GFQE9LM60ZLTGSZT                  NaN   \n",
       "13          A270HX8LH9LJ8W:33LK57MYLUTXC8GFQE9LM60ZLTGSZT                  NaN   \n",
       "16          A270HX8LH9LJ8W:33LK57MYLUTXC8GFQE9LM60ZLTGSZT                  NaN   \n",
       "17          A270HX8LH9LJ8W:33LK57MYLUTXC8GFQE9LM60ZLTGSZT                  NaN   \n",
       "20          A270HX8LH9LJ8W:33LK57MYLUTXC8GFQE9LM60ZLTGSZT                  NaN   \n",
       "21          A270HX8LH9LJ8W:33LK57MYLUTXC8GFQE9LM60ZLTGSZT                  NaN   \n",
       "\n",
       "                                                          survey_answer  \\\n",
       "trial_index uniqueid                                                      \n",
       "4           A270HX8LH9LJ8W:33LK57MYLUTXC8GFQE9LM60ZLTGSZT           NaN   \n",
       "5           A270HX8LH9LJ8W:33LK57MYLUTXC8GFQE9LM60ZLTGSZT           NaN   \n",
       "8           A270HX8LH9LJ8W:33LK57MYLUTXC8GFQE9LM60ZLTGSZT           NaN   \n",
       "9           A270HX8LH9LJ8W:33LK57MYLUTXC8GFQE9LM60ZLTGSZT           NaN   \n",
       "12          A270HX8LH9LJ8W:33LK57MYLUTXC8GFQE9LM60ZLTGSZT           NaN   \n",
       "13          A270HX8LH9LJ8W:33LK57MYLUTXC8GFQE9LM60ZLTGSZT           NaN   \n",
       "16          A270HX8LH9LJ8W:33LK57MYLUTXC8GFQE9LM60ZLTGSZT           NaN   \n",
       "17          A270HX8LH9LJ8W:33LK57MYLUTXC8GFQE9LM60ZLTGSZT           NaN   \n",
       "20          A270HX8LH9LJ8W:33LK57MYLUTXC8GFQE9LM60ZLTGSZT           NaN   \n",
       "21          A270HX8LH9LJ8W:33LK57MYLUTXC8GFQE9LM60ZLTGSZT           NaN   \n",
       "\n",
       "                                                           is_train_trial  \\\n",
       "trial_index uniqueid                                                        \n",
       "4           A270HX8LH9LJ8W:33LK57MYLUTXC8GFQE9LM60ZLTGSZT            True   \n",
       "5           A270HX8LH9LJ8W:33LK57MYLUTXC8GFQE9LM60ZLTGSZT            True   \n",
       "8           A270HX8LH9LJ8W:33LK57MYLUTXC8GFQE9LM60ZLTGSZT            True   \n",
       "9           A270HX8LH9LJ8W:33LK57MYLUTXC8GFQE9LM60ZLTGSZT            True   \n",
       "12          A270HX8LH9LJ8W:33LK57MYLUTXC8GFQE9LM60ZLTGSZT            True   \n",
       "13          A270HX8LH9LJ8W:33LK57MYLUTXC8GFQE9LM60ZLTGSZT            True   \n",
       "16          A270HX8LH9LJ8W:33LK57MYLUTXC8GFQE9LM60ZLTGSZT            True   \n",
       "17          A270HX8LH9LJ8W:33LK57MYLUTXC8GFQE9LM60ZLTGSZT            True   \n",
       "20          A270HX8LH9LJ8W:33LK57MYLUTXC8GFQE9LM60ZLTGSZT            True   \n",
       "21          A270HX8LH9LJ8W:33LK57MYLUTXC8GFQE9LM60ZLTGSZT            True   \n",
       "\n",
       "                                                           is_test_trial  \n",
       "trial_index uniqueid                                                      \n",
       "4           A270HX8LH9LJ8W:33LK57MYLUTXC8GFQE9LM60ZLTGSZT          False  \n",
       "5           A270HX8LH9LJ8W:33LK57MYLUTXC8GFQE9LM60ZLTGSZT          False  \n",
       "8           A270HX8LH9LJ8W:33LK57MYLUTXC8GFQE9LM60ZLTGSZT          False  \n",
       "9           A270HX8LH9LJ8W:33LK57MYLUTXC8GFQE9LM60ZLTGSZT          False  \n",
       "12          A270HX8LH9LJ8W:33LK57MYLUTXC8GFQE9LM60ZLTGSZT          False  \n",
       "13          A270HX8LH9LJ8W:33LK57MYLUTXC8GFQE9LM60ZLTGSZT          False  \n",
       "16          A270HX8LH9LJ8W:33LK57MYLUTXC8GFQE9LM60ZLTGSZT          False  \n",
       "17          A270HX8LH9LJ8W:33LK57MYLUTXC8GFQE9LM60ZLTGSZT          False  \n",
       "20          A270HX8LH9LJ8W:33LK57MYLUTXC8GFQE9LM60ZLTGSZT          False  \n",
       "21          A270HX8LH9LJ8W:33LK57MYLUTXC8GFQE9LM60ZLTGSZT          False  "
      ]
     },
     "execution_count": 41,
     "metadata": {},
     "output_type": "execute_result"
    }
   ],
   "source": [
    "train_trials_df.head(10)"
   ]
  },
  {
   "cell_type": "code",
   "execution_count": 42,
   "metadata": {},
   "outputs": [],
   "source": [
    "train_trials_df.to_csv(\"data/train_results.csv\")"
   ]
  },
  {
   "cell_type": "markdown",
   "metadata": {},
   "source": [
    "### Test data preprocessing"
   ]
  },
  {
   "cell_type": "code",
   "execution_count": 43,
   "metadata": {},
   "outputs": [
    {
     "name": "stderr",
     "output_type": "stream",
     "text": [
      "/opt/conda/lib/python3.7/site-packages/ipykernel_launcher.py:9: SettingWithCopyWarning: \n",
      "A value is trying to be set on a copy of a slice from a DataFrame.\n",
      "Try using .loc[row_indexer,col_indexer] = value instead\n",
      "\n",
      "See the caveats in the documentation: http://pandas.pydata.org/pandas-docs/stable/user_guide/indexing.html#returning-a-view-versus-a-copy\n",
      "  if __name__ == '__main__':\n"
     ]
    }
   ],
   "source": [
    "# Convert slider response to a \"distance from correct verb\" measure.\n",
    "def get_distance_from_correct_verb(test_row):\n",
    "    # What is the position of the correct verb on the slider?\n",
    "    correct_verb_index = test_row.slider_labels.index(test_row.verb)\n",
    "    correct_verb_position = 100 * correct_verb_index\n",
    "    \n",
    "    return correct_verb_position - int(test_row.response)\n",
    "\n",
    "test_trials_df[\"distance_from_correct\"] = test_trials_df.apply(get_distance_from_correct_verb, axis=1)"
   ]
  },
  {
   "cell_type": "code",
   "execution_count": 44,
   "metadata": {},
   "outputs": [
    {
     "name": "stderr",
     "output_type": "stream",
     "text": [
      "/opt/conda/lib/python3.7/site-packages/ipykernel_launcher.py:2: SettingWithCopyWarning: \n",
      "A value is trying to be set on a copy of a slice from a DataFrame.\n",
      "Try using .loc[row_indexer,col_indexer] = value instead\n",
      "\n",
      "See the caveats in the documentation: http://pandas.pydata.org/pandas-docs/stable/user_guide/indexing.html#returning-a-view-versus-a-copy\n",
      "  \n"
     ]
    }
   ],
   "source": [
    "# Judge a test trial as correct if the subject was on the right side of the slider.\n",
    "test_trials_df[\"correct\"] = test_trials_df[\"distance_from_correct\"].abs() < 50"
   ]
  },
  {
   "cell_type": "code",
   "execution_count": 154,
   "metadata": {},
   "outputs": [
    {
     "name": "stderr",
     "output_type": "stream",
     "text": [
      "/opt/conda/lib/python3.7/site-packages/ipykernel_launcher.py:7: SettingWithCopyWarning: \n",
      "A value is trying to be set on a copy of a slice from a DataFrame.\n",
      "Try using .loc[row_indexer,col_indexer] = value instead\n",
      "\n",
      "See the caveats in the documentation: http://pandas.pydata.org/pandas-docs/stable/user_guide/indexing.html#returning-a-view-versus-a-copy\n",
      "  import sys\n"
     ]
    }
   ],
   "source": [
    "# z-score slider position values within-subject\n",
    "position_cols = [\"response\", \"distance_from_correct\"]\n",
    "def normalize_positions(subject_rows):\n",
    "    subject_rows = subject_rows.astype(float)\n",
    "    return (subject_rows - subject_rows.mean()) / subject_rows.std()\n",
    "for position_col in position_cols:\n",
    "    test_trials_df[f\"{position_col}_zscore\"] = test_trials_df.groupby(\"uniqueid\")[position_col].transform(normalize_positions)"
   ]
  },
  {
   "cell_type": "code",
   "execution_count": 155,
   "metadata": {},
   "outputs": [],
   "source": [
    "test_trials_df.to_csv(\"data/test_results.csv\")"
   ]
  },
  {
   "cell_type": "code",
   "execution_count": 192,
   "metadata": {},
   "outputs": [
    {
     "data": {
      "text/plain": [
       "<matplotlib.axes._subplots.AxesSubplot at 0x2b021bf84b00>"
      ]
     },
     "execution_count": 192,
     "metadata": {},
     "output_type": "execute_result"
    },
    {
     "data": {
      "image/png": "[encoded data removed]",
      "text/plain": [
       "<Figure size 1080x720 with 1 Axes>"
      ]
     },
     "metadata": {
      "needs_background": "light"
     },
     "output_type": "display_data"
    }
   ],
   "source": [
    "plt.figure(figsize=(15, 10))\n",
    "sns.boxplot(data=test_trials_df, x=\"item_idx\", hue=\"condition\", y=\"distance_from_correct\")"
   ]
  },
  {
   "cell_type": "code",
   "execution_count": 213,
   "metadata": {},
   "outputs": [
    {
     "data": {
      "text/plain": [
       "<matplotlib.axes._subplots.AxesSubplot at 0x2b021d523ba8>"
      ]
     },
     "execution_count": 213,
     "metadata": {},
     "output_type": "execute_result"
    },
    {
     "data": {
      "image/png": "[encoded data removed]",
      "text/plain": [
       "<Figure size 432x288 with 1 Axes>"
      ]
     },
     "metadata": {
      "needs_background": "light"
     },
     "output_type": "display_data"
    }
   ],
   "source": [
    "def get_mean_diff(item_rows):\n",
    "    item_rows = item_rows.set_index(\"condition\")\n",
    "    try:\n",
    "        return item_rows.loc[\"verb\"].distance_from_correct.mean() - item_rows.loc[\"syntax\"].distance_from_correct.mean()\n",
    "    except KeyError:\n",
    "        return np.nan\n",
    "sns.distplot(test_trials_df.groupby(\"item_idx\").apply(get_mean_diff).dropna(), bins=10)"
   ]
  },
  {
   "cell_type": "markdown",
   "metadata": {},
   "source": [
    "-----"
   ]
  },
  {
   "cell_type": "markdown",
   "metadata": {},
   "source": [
    "## Demographic analysis"
   ]
  },
  {
   "cell_type": "code",
   "execution_count": 46,
   "metadata": {},
   "outputs": [
    {
     "data": {
      "text/plain": [
       "Text(0.5, 0, 'Age')"
      ]
     },
     "execution_count": 46,
     "metadata": {},
     "output_type": "execute_result"
    },
    {
     "data": {
      "image/png": "[encoded data removed]",
      "text/plain": [
       "<Figure size 432x288 with 1 Axes>"
      ]
     },
     "metadata": {
      "needs_background": "light"
     },
     "output_type": "display_data"
    }
   ],
   "source": [
    "ages = pd.to_numeric(trials_df.loc[1].survey_answer, errors=\"coerce\")\n",
    "\n",
    "sns.distplot(ages)\n",
    "plt.title(\"Age distribution\")\n",
    "plt.xlabel(\"Age\")"
   ]
  },
  {
   "cell_type": "code",
   "execution_count": 47,
   "metadata": {},
   "outputs": [
    {
     "data": {
      "text/plain": [
       "survey_question_idx  survey_answer    \n",
       "0                    Bachelor's degree    18\n",
       "                     Some college         11\n",
       "                     Master's degree       8\n",
       "                     High school/GED       2\n",
       "1                    Yes                  38\n",
       "                     No                    1\n",
       "Name: survey_answer, dtype: int64"
      ]
     },
     "execution_count": 47,
     "metadata": {},
     "output_type": "execute_result"
    }
   ],
   "source": [
    "trials_df.loc[2].groupby(\"survey_question_idx\").survey_answer.value_counts()"
   ]
  },
  {
   "cell_type": "markdown",
   "metadata": {},
   "source": [
    "### Comments"
   ]
  },
  {
   "cell_type": "code",
   "execution_count": 48,
   "metadata": {},
   "outputs": [
    {
     "data": {
      "text/plain": [
       "array([nan], dtype=object)"
      ]
     },
     "execution_count": 48,
     "metadata": {},
     "output_type": "execute_result"
    }
   ],
   "source": [
    "trials_df.loc[15].survey_answer.unique()"
   ]
  },
  {
   "cell_type": "markdown",
   "metadata": {},
   "source": [
    "## Reaction time analyses"
   ]
  },
  {
   "cell_type": "code",
   "execution_count": 49,
   "metadata": {},
   "outputs": [
    {
     "data": {
      "text/plain": [
       "<matplotlib.axes._subplots.AxesSubplot at 0x2b0219b50358>"
      ]
     },
     "execution_count": 49,
     "metadata": {},
     "output_type": "execute_result"
    },
    {
     "data": {
      "image/png": "[encoded data removed]",
      "text/plain": [
       "<Figure size 432x288 with 1 Axes>"
      ]
     },
     "metadata": {
      "needs_background": "light"
     },
     "output_type": "display_data"
    }
   ],
   "source": [
    "sns.distplot(trials_df.groupby(\"uniqueid\").rt.sum() / 1000 / 60, axlabel=\"Total experiment time (minutes)\")"
   ]
  },
  {
   "cell_type": "code",
   "execution_count": 50,
   "metadata": {},
   "outputs": [
    {
     "data": {
      "text/plain": [
       "<matplotlib.axes._subplots.AxesSubplot at 0x2b02123db278>"
      ]
     },
     "execution_count": 50,
     "metadata": {},
     "output_type": "execute_result"
    },
    {
     "data": {
      "image/png": "[encoded data removed]",
      "text/plain": [
       "<Figure size 432x288 with 1 Axes>"
      ]
     },
     "metadata": {
      "needs_background": "light"
     },
     "output_type": "display_data"
    }
   ],
   "source": [
    "sns.distplot(train_trials_df.rt / 1000, bins=30, axlabel=\"Train RT (sec)\")"
   ]
  },
  {
   "cell_type": "code",
   "execution_count": 51,
   "metadata": {},
   "outputs": [
    {
     "data": {
      "text/plain": [
       "<matplotlib.axes._subplots.AxesSubplot at 0x2b0219e526a0>"
      ]
     },
     "execution_count": 51,
     "metadata": {},
     "output_type": "execute_result"
    },
    {
     "data": {
      "image/png": "[encoded data removed]",
      "text/plain": [
       "<Figure size 432x288 with 1 Axes>"
      ]
     },
     "metadata": {
      "needs_background": "light"
     },
     "output_type": "display_data"
    }
   ],
   "source": [
    "sns.scatterplot(data=train_trials_df.reset_index(), x=\"trial_index\", y=\"rt\")"
   ]
  },
  {
   "cell_type": "code",
   "execution_count": 52,
   "metadata": {},
   "outputs": [
    {
     "data": {
      "text/plain": [
       "<matplotlib.axes._subplots.AxesSubplot at 0x2b021a025e80>"
      ]
     },
     "execution_count": 52,
     "metadata": {},
     "output_type": "execute_result"
    },
    {
     "data": {
      "image/png": "[encoded data removed]",
      "text/plain": [
       "<Figure size 432x288 with 1 Axes>"
      ]
     },
     "metadata": {
      "needs_background": "light"
     },
     "output_type": "display_data"
    }
   ],
   "source": [
    "sns.distplot(test_trials_df.rt / 1000, bins=30, axlabel=\"Test RT (ms)\")"
   ]
  },
  {
   "cell_type": "code",
   "execution_count": 53,
   "metadata": {},
   "outputs": [
    {
     "data": {
      "text/plain": [
       "<matplotlib.axes._subplots.AxesSubplot at 0x2b021a0ec9b0>"
      ]
     },
     "execution_count": 53,
     "metadata": {},
     "output_type": "execute_result"
    },
    {
     "data": {
      "image/png": "[encoded data removed]",
      "text/plain": [
       "<Figure size 432x288 with 1 Axes>"
      ]
     },
     "metadata": {
      "needs_background": "light"
     },
     "output_type": "display_data"
    }
   ],
   "source": [
    "sns.scatterplot(data=test_trials_df.reset_index(), x=\"trial_index\", y=\"rt\")"
   ]
  },
  {
   "cell_type": "markdown",
   "metadata": {},
   "source": [
    "## Coarse accuracy analyses"
   ]
  },
  {
   "cell_type": "code",
   "execution_count": 54,
   "metadata": {},
   "outputs": [
    {
     "data": {
      "text/plain": [
       "<matplotlib.axes._subplots.AxesSubplot at 0x2b021a0bdcc0>"
      ]
     },
     "execution_count": 54,
     "metadata": {},
     "output_type": "execute_result"
    },
    {
     "data": {
      "image/png": "[encoded data removed]",
      "text/plain": [
       "<Figure size 432x288 with 1 Axes>"
      ]
     },
     "metadata": {
      "needs_background": "light"
     },
     "output_type": "display_data"
    }
   ],
   "source": [
    "sns.barplot(data=test_trials_df.reset_index(),\n",
    "            x=\"condition\", y=\"correct\")"
   ]
  },
  {
   "cell_type": "code",
   "execution_count": 55,
   "metadata": {},
   "outputs": [
    {
     "data": {
      "text/plain": [
       "condition\n",
       "syntax    0.611650\n",
       "verb      0.496183\n",
       "Name: correct, dtype: float64"
      ]
     },
     "execution_count": 55,
     "metadata": {},
     "output_type": "execute_result"
    }
   ],
   "source": [
    "test_trials_df.groupby(\"condition\").correct.mean()"
   ]
  },
  {
   "cell_type": "code",
   "execution_count": 56,
   "metadata": {},
   "outputs": [
    {
     "data": {
      "text/plain": [
       "item_idx  condition\n",
       "1.0       syntax        9\n",
       "          verb         15\n",
       "2.0       syntax        6\n",
       "          verb          4\n",
       "3.0       syntax        4\n",
       "          verb          9\n",
       "4.0       syntax        2\n",
       "          verb          1\n",
       "5.0       verb          2\n",
       "6.0       syntax        6\n",
       "          verb          6\n",
       "8.0       syntax        6\n",
       "          verb          5\n",
       "9.0       syntax        3\n",
       "          verb          4\n",
       "10.0      syntax        3\n",
       "          verb          5\n",
       "11.0      syntax       10\n",
       "          verb         10\n",
       "12.0      syntax       17\n",
       "          verb         19\n",
       "13.0      syntax        4\n",
       "          verb          7\n",
       "14.0      syntax       16\n",
       "          verb         16\n",
       "15.0      syntax        4\n",
       "          verb         10\n",
       "16.0      syntax       10\n",
       "          verb         10\n",
       "17.0      syntax        3\n",
       "          verb          8\n",
       "dtype: int64"
      ]
     },
     "execution_count": 56,
     "metadata": {},
     "output_type": "execute_result"
    }
   ],
   "source": [
    "test_trials_df.groupby([\"item_idx\", \"condition\"]).size()"
   ]
  },
  {
   "cell_type": "code",
   "execution_count": 57,
   "metadata": {},
   "outputs": [
    {
     "data": {
      "text/plain": [
       "item_idx  condition\n",
       "1.0       syntax       0.555556\n",
       "          verb         0.400000\n",
       "2.0       syntax       0.500000\n",
       "          verb         0.250000\n",
       "3.0       syntax       0.500000\n",
       "          verb         0.666667\n",
       "4.0       syntax       1.000000\n",
       "          verb         1.000000\n",
       "5.0       verb         1.000000\n",
       "6.0       syntax       0.333333\n",
       "          verb         0.500000\n",
       "8.0       syntax       0.500000\n",
       "          verb         0.000000\n",
       "9.0       syntax       0.666667\n",
       "          verb         0.500000\n",
       "10.0      syntax       1.000000\n",
       "          verb         0.600000\n",
       "11.0      syntax       0.800000\n",
       "          verb         0.200000\n",
       "12.0      syntax       0.529412\n",
       "          verb         0.684211\n",
       "13.0      syntax       0.500000\n",
       "          verb         0.714286\n",
       "14.0      syntax       0.750000\n",
       "          verb         0.625000\n",
       "15.0      syntax       0.750000\n",
       "          verb         0.400000\n",
       "16.0      syntax       0.600000\n",
       "          verb         0.500000\n",
       "17.0      syntax       0.333333\n",
       "          verb         0.250000\n",
       "Name: correct, dtype: float64"
      ]
     },
     "execution_count": 57,
     "metadata": {},
     "output_type": "execute_result"
    }
   ],
   "source": [
    "test_trials_df.groupby([\"item_idx\", \"condition\"]).correct.mean()"
   ]
  },
  {
   "cell_type": "code",
   "execution_count": 58,
   "metadata": {},
   "outputs": [
    {
     "data": {
      "text/plain": [
       "<matplotlib.axes._subplots.AxesSubplot at 0x2b021a1b4a20>"
      ]
     },
     "execution_count": 58,
     "metadata": {},
     "output_type": "execute_result"
    },
    {
     "data": {
      "image/png": "[encoded data removed]",
      "text/plain": [
       "<Figure size 1080x432 with 1 Axes>"
      ]
     },
     "metadata": {
      "needs_background": "light"
     },
     "output_type": "display_data"
    }
   ],
   "source": [
    "plt.subplots(figsize=(15, 6))\n",
    "sns.barplot(data=test_trials_df, x=\"item_idx\", hue=\"condition\", y=\"correct\")"
   ]
  },
  {
   "cell_type": "markdown",
   "metadata": {},
   "source": [
    "## Model-based analysis"
   ]
  },
  {
   "cell_type": "markdown",
   "metadata": {},
   "source": [
    "Now compare subject responses with the model-driven predictions."
   ]
  },
  {
   "cell_type": "code",
   "execution_count": 156,
   "metadata": {},
   "outputs": [
    {
     "data": {
      "text/html": [
       "<div>\n",
       "<style scoped>\n",
       "    .dataframe tbody tr th:only-of-type {\n",
       "        vertical-align: middle;\n",
       "    }\n",
       "\n",
       "    .dataframe tbody tr th {\n",
       "        vertical-align: top;\n",
       "    }\n",
       "\n",
       "    .dataframe thead th {\n",
       "        text-align: right;\n",
       "    }\n",
       "</style>\n",
       "<table border=\"1\" class=\"dataframe\">\n",
       "  <thead>\n",
       "    <tr style=\"text-align: right;\">\n",
       "      <th></th>\n",
       "      <th></th>\n",
       "      <th>condition</th>\n",
       "      <th>counterbalance</th>\n",
       "      <th>assignmentId</th>\n",
       "      <th>workerId</th>\n",
       "      <th>hitId</th>\n",
       "      <th>trial_type</th>\n",
       "      <th>rt</th>\n",
       "      <th>internal_node_id</th>\n",
       "      <th>stage</th>\n",
       "      <th>item_idx</th>\n",
       "      <th>...</th>\n",
       "      <th>survey_answer</th>\n",
       "      <th>is_train_trial</th>\n",
       "      <th>is_test_trial</th>\n",
       "      <th>distance_from_correct</th>\n",
       "      <th>correct</th>\n",
       "      <th>scenes_hash</th>\n",
       "      <th>sentences_hash</th>\n",
       "      <th>subject_posterior</th>\n",
       "      <th>response_zscore</th>\n",
       "      <th>distance_from_correct_zscore</th>\n",
       "    </tr>\n",
       "    <tr>\n",
       "      <th>trial_index</th>\n",
       "      <th>uniqueid</th>\n",
       "      <th></th>\n",
       "      <th></th>\n",
       "      <th></th>\n",
       "      <th></th>\n",
       "      <th></th>\n",
       "      <th></th>\n",
       "      <th></th>\n",
       "      <th></th>\n",
       "      <th></th>\n",
       "      <th></th>\n",
       "      <th></th>\n",
       "      <th></th>\n",
       "      <th></th>\n",
       "      <th></th>\n",
       "      <th></th>\n",
       "      <th></th>\n",
       "      <th></th>\n",
       "      <th></th>\n",
       "      <th></th>\n",
       "      <th></th>\n",
       "      <th></th>\n",
       "    </tr>\n",
       "  </thead>\n",
       "  <tbody>\n",
       "    <tr>\n",
       "      <th>6</th>\n",
       "      <th>A270HX8LH9LJ8W:33LK57MYLUTXC8GFQE9LM60ZLTGSZT</th>\n",
       "      <td>syntax</td>\n",
       "      <td>0</td>\n",
       "      <td>33LK57MYLUTXC8GFQE9LM60ZLTGSZT</td>\n",
       "      <td>A270HX8LH9LJ8W</td>\n",
       "      <td>3UL5XDRDNC7EZQJOFQRYSRXFHMN58K</td>\n",
       "      <td>html-slider-response</td>\n",
       "      <td>12084</td>\n",
       "      <td>0.0-3.0-3.0</td>\n",
       "      <td>test</td>\n",
       "      <td>2.0</td>\n",
       "      <td>...</td>\n",
       "      <td>NaN</td>\n",
       "      <td>False</td>\n",
       "      <td>True</td>\n",
       "      <td>-79</td>\n",
       "      <td>False</td>\n",
       "      <td>1673829668028560981</td>\n",
       "      <td>1478743704822824840</td>\n",
       "      <td>0.105</td>\n",
       "      <td>0.692062</td>\n",
       "      <td>-0.682266</td>\n",
       "    </tr>\n",
       "    <tr>\n",
       "      <th>10</th>\n",
       "      <th>A270HX8LH9LJ8W:33LK57MYLUTXC8GFQE9LM60ZLTGSZT</th>\n",
       "      <td>syntax</td>\n",
       "      <td>0</td>\n",
       "      <td>33LK57MYLUTXC8GFQE9LM60ZLTGSZT</td>\n",
       "      <td>A270HX8LH9LJ8W</td>\n",
       "      <td>3UL5XDRDNC7EZQJOFQRYSRXFHMN58K</td>\n",
       "      <td>html-slider-response</td>\n",
       "      <td>8175</td>\n",
       "      <td>0.0-4.0-3.0</td>\n",
       "      <td>test</td>\n",
       "      <td>11.0</td>\n",
       "      <td>...</td>\n",
       "      <td>NaN</td>\n",
       "      <td>False</td>\n",
       "      <td>True</td>\n",
       "      <td>-7</td>\n",
       "      <td>True</td>\n",
       "      <td>1680171701720776756</td>\n",
       "      <td>4918371552111408621</td>\n",
       "      <td>0.465</td>\n",
       "      <td>-1.056305</td>\n",
       "      <td>0.405332</td>\n",
       "    </tr>\n",
       "    <tr>\n",
       "      <th>14</th>\n",
       "      <th>A270HX8LH9LJ8W:33LK57MYLUTXC8GFQE9LM60ZLTGSZT</th>\n",
       "      <td>verb</td>\n",
       "      <td>0</td>\n",
       "      <td>33LK57MYLUTXC8GFQE9LM60ZLTGSZT</td>\n",
       "      <td>A270HX8LH9LJ8W</td>\n",
       "      <td>3UL5XDRDNC7EZQJOFQRYSRXFHMN58K</td>\n",
       "      <td>html-slider-response</td>\n",
       "      <td>7982</td>\n",
       "      <td>0.0-5.0-3.0</td>\n",
       "      <td>test</td>\n",
       "      <td>12.0</td>\n",
       "      <td>...</td>\n",
       "      <td>NaN</td>\n",
       "      <td>False</td>\n",
       "      <td>True</td>\n",
       "      <td>-87</td>\n",
       "      <td>False</td>\n",
       "      <td>1161387334540989781</td>\n",
       "      <td>9071679886212293147</td>\n",
       "      <td>0.065</td>\n",
       "      <td>0.886324</td>\n",
       "      <td>-0.803110</td>\n",
       "    </tr>\n",
       "    <tr>\n",
       "      <th>18</th>\n",
       "      <th>A270HX8LH9LJ8W:33LK57MYLUTXC8GFQE9LM60ZLTGSZT</th>\n",
       "      <td>verb</td>\n",
       "      <td>0</td>\n",
       "      <td>33LK57MYLUTXC8GFQE9LM60ZLTGSZT</td>\n",
       "      <td>A270HX8LH9LJ8W</td>\n",
       "      <td>3UL5XDRDNC7EZQJOFQRYSRXFHMN58K</td>\n",
       "      <td>html-slider-response</td>\n",
       "      <td>13828</td>\n",
       "      <td>0.0-6.0-3.0</td>\n",
       "      <td>test</td>\n",
       "      <td>15.0</td>\n",
       "      <td>...</td>\n",
       "      <td>NaN</td>\n",
       "      <td>False</td>\n",
       "      <td>True</td>\n",
       "      <td>75</td>\n",
       "      <td>False</td>\n",
       "      <td>1162342923881660506</td>\n",
       "      <td>-7174465927499887714</td>\n",
       "      <td>0.875</td>\n",
       "      <td>-0.619213</td>\n",
       "      <td>1.643984</td>\n",
       "    </tr>\n",
       "    <tr>\n",
       "      <th>22</th>\n",
       "      <th>A270HX8LH9LJ8W:33LK57MYLUTXC8GFQE9LM60ZLTGSZT</th>\n",
       "      <td>syntax</td>\n",
       "      <td>0</td>\n",
       "      <td>33LK57MYLUTXC8GFQE9LM60ZLTGSZT</td>\n",
       "      <td>A270HX8LH9LJ8W</td>\n",
       "      <td>3UL5XDRDNC7EZQJOFQRYSRXFHMN58K</td>\n",
       "      <td>html-slider-response</td>\n",
       "      <td>16265</td>\n",
       "      <td>0.0-7.0-3.0</td>\n",
       "      <td>test</td>\n",
       "      <td>16.0</td>\n",
       "      <td>...</td>\n",
       "      <td>NaN</td>\n",
       "      <td>False</td>\n",
       "      <td>True</td>\n",
       "      <td>-9</td>\n",
       "      <td>True</td>\n",
       "      <td>1670995629197301806</td>\n",
       "      <td>-6243990526409178309</td>\n",
       "      <td>0.455</td>\n",
       "      <td>-1.007739</td>\n",
       "      <td>0.375120</td>\n",
       "    </tr>\n",
       "    <tr>\n",
       "      <th>...</th>\n",
       "      <th>...</th>\n",
       "      <td>...</td>\n",
       "      <td>...</td>\n",
       "      <td>...</td>\n",
       "      <td>...</td>\n",
       "      <td>...</td>\n",
       "      <td>...</td>\n",
       "      <td>...</td>\n",
       "      <td>...</td>\n",
       "      <td>...</td>\n",
       "      <td>...</td>\n",
       "      <td>...</td>\n",
       "      <td>...</td>\n",
       "      <td>...</td>\n",
       "      <td>...</td>\n",
       "      <td>...</td>\n",
       "      <td>...</td>\n",
       "      <td>...</td>\n",
       "      <td>...</td>\n",
       "      <td>...</td>\n",
       "      <td>...</td>\n",
       "      <td>...</td>\n",
       "    </tr>\n",
       "    <tr>\n",
       "      <th>10</th>\n",
       "      <th>A3GHPWV5J07UE8:3WAKVUDHUX4U7B2DWOC2ANPOWEG7UM</th>\n",
       "      <td>syntax</td>\n",
       "      <td>0</td>\n",
       "      <td>3WAKVUDHUX4U7B2DWOC2ANPOWEG7UM</td>\n",
       "      <td>A3GHPWV5J07UE8</td>\n",
       "      <td>30U1YOGZGAKRMNDQ8UFM7UL861ESD9</td>\n",
       "      <td>html-slider-response</td>\n",
       "      <td>4706</td>\n",
       "      <td>0.0-4.0-3.0</td>\n",
       "      <td>test</td>\n",
       "      <td>10.0</td>\n",
       "      <td>...</td>\n",
       "      <td>NaN</td>\n",
       "      <td>False</td>\n",
       "      <td>True</td>\n",
       "      <td>0</td>\n",
       "      <td>True</td>\n",
       "      <td>1667583196323241031</td>\n",
       "      <td>1010983940740821923</td>\n",
       "      <td>0.500</td>\n",
       "      <td>0.408248</td>\n",
       "      <td>0.000000</td>\n",
       "    </tr>\n",
       "    <tr>\n",
       "      <th>14</th>\n",
       "      <th>A3GHPWV5J07UE8:3WAKVUDHUX4U7B2DWOC2ANPOWEG7UM</th>\n",
       "      <td>verb</td>\n",
       "      <td>0</td>\n",
       "      <td>3WAKVUDHUX4U7B2DWOC2ANPOWEG7UM</td>\n",
       "      <td>A3GHPWV5J07UE8</td>\n",
       "      <td>30U1YOGZGAKRMNDQ8UFM7UL861ESD9</td>\n",
       "      <td>html-slider-response</td>\n",
       "      <td>9529</td>\n",
       "      <td>0.0-5.0-3.0</td>\n",
       "      <td>test</td>\n",
       "      <td>11.0</td>\n",
       "      <td>...</td>\n",
       "      <td>NaN</td>\n",
       "      <td>False</td>\n",
       "      <td>True</td>\n",
       "      <td>-100</td>\n",
       "      <td>False</td>\n",
       "      <td>1680171701720776756</td>\n",
       "      <td>-7201759691126902053</td>\n",
       "      <td>0.000</td>\n",
       "      <td>0.408248</td>\n",
       "      <td>-1.581139</td>\n",
       "    </tr>\n",
       "    <tr>\n",
       "      <th>18</th>\n",
       "      <th>A3GHPWV5J07UE8:3WAKVUDHUX4U7B2DWOC2ANPOWEG7UM</th>\n",
       "      <td>verb</td>\n",
       "      <td>0</td>\n",
       "      <td>3WAKVUDHUX4U7B2DWOC2ANPOWEG7UM</td>\n",
       "      <td>A3GHPWV5J07UE8</td>\n",
       "      <td>30U1YOGZGAKRMNDQ8UFM7UL861ESD9</td>\n",
       "      <td>html-slider-response</td>\n",
       "      <td>8759</td>\n",
       "      <td>0.0-6.0-3.0</td>\n",
       "      <td>test</td>\n",
       "      <td>12.0</td>\n",
       "      <td>...</td>\n",
       "      <td>NaN</td>\n",
       "      <td>False</td>\n",
       "      <td>True</td>\n",
       "      <td>100</td>\n",
       "      <td>False</td>\n",
       "      <td>1161387334540989781</td>\n",
       "      <td>9071679886212293147</td>\n",
       "      <td>1.000</td>\n",
       "      <td>-2.041241</td>\n",
       "      <td>1.581139</td>\n",
       "    </tr>\n",
       "    <tr>\n",
       "      <th>22</th>\n",
       "      <th>A3GHPWV5J07UE8:3WAKVUDHUX4U7B2DWOC2ANPOWEG7UM</th>\n",
       "      <td>syntax</td>\n",
       "      <td>0</td>\n",
       "      <td>3WAKVUDHUX4U7B2DWOC2ANPOWEG7UM</td>\n",
       "      <td>A3GHPWV5J07UE8</td>\n",
       "      <td>30U1YOGZGAKRMNDQ8UFM7UL861ESD9</td>\n",
       "      <td>html-slider-response</td>\n",
       "      <td>5456</td>\n",
       "      <td>0.0-7.0-3.0</td>\n",
       "      <td>test</td>\n",
       "      <td>13.0</td>\n",
       "      <td>...</td>\n",
       "      <td>NaN</td>\n",
       "      <td>False</td>\n",
       "      <td>True</td>\n",
       "      <td>0</td>\n",
       "      <td>True</td>\n",
       "      <td>1697230157293314081</td>\n",
       "      <td>8162657654997576422</td>\n",
       "      <td>0.500</td>\n",
       "      <td>0.408248</td>\n",
       "      <td>0.000000</td>\n",
       "    </tr>\n",
       "    <tr>\n",
       "      <th>26</th>\n",
       "      <th>A3GHPWV5J07UE8:3WAKVUDHUX4U7B2DWOC2ANPOWEG7UM</th>\n",
       "      <td>verb</td>\n",
       "      <td>0</td>\n",
       "      <td>3WAKVUDHUX4U7B2DWOC2ANPOWEG7UM</td>\n",
       "      <td>A3GHPWV5J07UE8</td>\n",
       "      <td>30U1YOGZGAKRMNDQ8UFM7UL861ESD9</td>\n",
       "      <td>html-slider-response</td>\n",
       "      <td>4928</td>\n",
       "      <td>0.0-8.0-3.0</td>\n",
       "      <td>test</td>\n",
       "      <td>17.0</td>\n",
       "      <td>...</td>\n",
       "      <td>NaN</td>\n",
       "      <td>False</td>\n",
       "      <td>True</td>\n",
       "      <td>0</td>\n",
       "      <td>True</td>\n",
       "      <td>4448077016628655581</td>\n",
       "      <td>4074901683448947425</td>\n",
       "      <td>0.500</td>\n",
       "      <td>0.408248</td>\n",
       "      <td>0.000000</td>\n",
       "    </tr>\n",
       "  </tbody>\n",
       "</table>\n",
       "<p>234 rows × 26 columns</p>\n",
       "</div>"
      ],
      "text/plain": [
       "                                                          condition  \\\n",
       "trial_index uniqueid                                                  \n",
       "6           A270HX8LH9LJ8W:33LK57MYLUTXC8GFQE9LM60ZLTGSZT    syntax   \n",
       "10          A270HX8LH9LJ8W:33LK57MYLUTXC8GFQE9LM60ZLTGSZT    syntax   \n",
       "14          A270HX8LH9LJ8W:33LK57MYLUTXC8GFQE9LM60ZLTGSZT      verb   \n",
       "18          A270HX8LH9LJ8W:33LK57MYLUTXC8GFQE9LM60ZLTGSZT      verb   \n",
       "22          A270HX8LH9LJ8W:33LK57MYLUTXC8GFQE9LM60ZLTGSZT    syntax   \n",
       "...                                                             ...   \n",
       "10          A3GHPWV5J07UE8:3WAKVUDHUX4U7B2DWOC2ANPOWEG7UM    syntax   \n",
       "14          A3GHPWV5J07UE8:3WAKVUDHUX4U7B2DWOC2ANPOWEG7UM      verb   \n",
       "18          A3GHPWV5J07UE8:3WAKVUDHUX4U7B2DWOC2ANPOWEG7UM      verb   \n",
       "22          A3GHPWV5J07UE8:3WAKVUDHUX4U7B2DWOC2ANPOWEG7UM    syntax   \n",
       "26          A3GHPWV5J07UE8:3WAKVUDHUX4U7B2DWOC2ANPOWEG7UM      verb   \n",
       "\n",
       "                                                           counterbalance  \\\n",
       "trial_index uniqueid                                                        \n",
       "6           A270HX8LH9LJ8W:33LK57MYLUTXC8GFQE9LM60ZLTGSZT               0   \n",
       "10          A270HX8LH9LJ8W:33LK57MYLUTXC8GFQE9LM60ZLTGSZT               0   \n",
       "14          A270HX8LH9LJ8W:33LK57MYLUTXC8GFQE9LM60ZLTGSZT               0   \n",
       "18          A270HX8LH9LJ8W:33LK57MYLUTXC8GFQE9LM60ZLTGSZT               0   \n",
       "22          A270HX8LH9LJ8W:33LK57MYLUTXC8GFQE9LM60ZLTGSZT               0   \n",
       "...                                                                   ...   \n",
       "10          A3GHPWV5J07UE8:3WAKVUDHUX4U7B2DWOC2ANPOWEG7UM               0   \n",
       "14          A3GHPWV5J07UE8:3WAKVUDHUX4U7B2DWOC2ANPOWEG7UM               0   \n",
       "18          A3GHPWV5J07UE8:3WAKVUDHUX4U7B2DWOC2ANPOWEG7UM               0   \n",
       "22          A3GHPWV5J07UE8:3WAKVUDHUX4U7B2DWOC2ANPOWEG7UM               0   \n",
       "26          A3GHPWV5J07UE8:3WAKVUDHUX4U7B2DWOC2ANPOWEG7UM               0   \n",
       "\n",
       "                                                                             assignmentId  \\\n",
       "trial_index uniqueid                                                                        \n",
       "6           A270HX8LH9LJ8W:33LK57MYLUTXC8GFQE9LM60ZLTGSZT  33LK57MYLUTXC8GFQE9LM60ZLTGSZT   \n",
       "10          A270HX8LH9LJ8W:33LK57MYLUTXC8GFQE9LM60ZLTGSZT  33LK57MYLUTXC8GFQE9LM60ZLTGSZT   \n",
       "14          A270HX8LH9LJ8W:33LK57MYLUTXC8GFQE9LM60ZLTGSZT  33LK57MYLUTXC8GFQE9LM60ZLTGSZT   \n",
       "18          A270HX8LH9LJ8W:33LK57MYLUTXC8GFQE9LM60ZLTGSZT  33LK57MYLUTXC8GFQE9LM60ZLTGSZT   \n",
       "22          A270HX8LH9LJ8W:33LK57MYLUTXC8GFQE9LM60ZLTGSZT  33LK57MYLUTXC8GFQE9LM60ZLTGSZT   \n",
       "...                                                                                   ...   \n",
       "10          A3GHPWV5J07UE8:3WAKVUDHUX4U7B2DWOC2ANPOWEG7UM  3WAKVUDHUX4U7B2DWOC2ANPOWEG7UM   \n",
       "14          A3GHPWV5J07UE8:3WAKVUDHUX4U7B2DWOC2ANPOWEG7UM  3WAKVUDHUX4U7B2DWOC2ANPOWEG7UM   \n",
       "18          A3GHPWV5J07UE8:3WAKVUDHUX4U7B2DWOC2ANPOWEG7UM  3WAKVUDHUX4U7B2DWOC2ANPOWEG7UM   \n",
       "22          A3GHPWV5J07UE8:3WAKVUDHUX4U7B2DWOC2ANPOWEG7UM  3WAKVUDHUX4U7B2DWOC2ANPOWEG7UM   \n",
       "26          A3GHPWV5J07UE8:3WAKVUDHUX4U7B2DWOC2ANPOWEG7UM  3WAKVUDHUX4U7B2DWOC2ANPOWEG7UM   \n",
       "\n",
       "                                                                 workerId  \\\n",
       "trial_index uniqueid                                                        \n",
       "6           A270HX8LH9LJ8W:33LK57MYLUTXC8GFQE9LM60ZLTGSZT  A270HX8LH9LJ8W   \n",
       "10          A270HX8LH9LJ8W:33LK57MYLUTXC8GFQE9LM60ZLTGSZT  A270HX8LH9LJ8W   \n",
       "14          A270HX8LH9LJ8W:33LK57MYLUTXC8GFQE9LM60ZLTGSZT  A270HX8LH9LJ8W   \n",
       "18          A270HX8LH9LJ8W:33LK57MYLUTXC8GFQE9LM60ZLTGSZT  A270HX8LH9LJ8W   \n",
       "22          A270HX8LH9LJ8W:33LK57MYLUTXC8GFQE9LM60ZLTGSZT  A270HX8LH9LJ8W   \n",
       "...                                                                   ...   \n",
       "10          A3GHPWV5J07UE8:3WAKVUDHUX4U7B2DWOC2ANPOWEG7UM  A3GHPWV5J07UE8   \n",
       "14          A3GHPWV5J07UE8:3WAKVUDHUX4U7B2DWOC2ANPOWEG7UM  A3GHPWV5J07UE8   \n",
       "18          A3GHPWV5J07UE8:3WAKVUDHUX4U7B2DWOC2ANPOWEG7UM  A3GHPWV5J07UE8   \n",
       "22          A3GHPWV5J07UE8:3WAKVUDHUX4U7B2DWOC2ANPOWEG7UM  A3GHPWV5J07UE8   \n",
       "26          A3GHPWV5J07UE8:3WAKVUDHUX4U7B2DWOC2ANPOWEG7UM  A3GHPWV5J07UE8   \n",
       "\n",
       "                                                                                    hitId  \\\n",
       "trial_index uniqueid                                                                        \n",
       "6           A270HX8LH9LJ8W:33LK57MYLUTXC8GFQE9LM60ZLTGSZT  3UL5XDRDNC7EZQJOFQRYSRXFHMN58K   \n",
       "10          A270HX8LH9LJ8W:33LK57MYLUTXC8GFQE9LM60ZLTGSZT  3UL5XDRDNC7EZQJOFQRYSRXFHMN58K   \n",
       "14          A270HX8LH9LJ8W:33LK57MYLUTXC8GFQE9LM60ZLTGSZT  3UL5XDRDNC7EZQJOFQRYSRXFHMN58K   \n",
       "18          A270HX8LH9LJ8W:33LK57MYLUTXC8GFQE9LM60ZLTGSZT  3UL5XDRDNC7EZQJOFQRYSRXFHMN58K   \n",
       "22          A270HX8LH9LJ8W:33LK57MYLUTXC8GFQE9LM60ZLTGSZT  3UL5XDRDNC7EZQJOFQRYSRXFHMN58K   \n",
       "...                                                                                   ...   \n",
       "10          A3GHPWV5J07UE8:3WAKVUDHUX4U7B2DWOC2ANPOWEG7UM  30U1YOGZGAKRMNDQ8UFM7UL861ESD9   \n",
       "14          A3GHPWV5J07UE8:3WAKVUDHUX4U7B2DWOC2ANPOWEG7UM  30U1YOGZGAKRMNDQ8UFM7UL861ESD9   \n",
       "18          A3GHPWV5J07UE8:3WAKVUDHUX4U7B2DWOC2ANPOWEG7UM  30U1YOGZGAKRMNDQ8UFM7UL861ESD9   \n",
       "22          A3GHPWV5J07UE8:3WAKVUDHUX4U7B2DWOC2ANPOWEG7UM  30U1YOGZGAKRMNDQ8UFM7UL861ESD9   \n",
       "26          A3GHPWV5J07UE8:3WAKVUDHUX4U7B2DWOC2ANPOWEG7UM  30U1YOGZGAKRMNDQ8UFM7UL861ESD9   \n",
       "\n",
       "                                                                     trial_type  \\\n",
       "trial_index uniqueid                                                              \n",
       "6           A270HX8LH9LJ8W:33LK57MYLUTXC8GFQE9LM60ZLTGSZT  html-slider-response   \n",
       "10          A270HX8LH9LJ8W:33LK57MYLUTXC8GFQE9LM60ZLTGSZT  html-slider-response   \n",
       "14          A270HX8LH9LJ8W:33LK57MYLUTXC8GFQE9LM60ZLTGSZT  html-slider-response   \n",
       "18          A270HX8LH9LJ8W:33LK57MYLUTXC8GFQE9LM60ZLTGSZT  html-slider-response   \n",
       "22          A270HX8LH9LJ8W:33LK57MYLUTXC8GFQE9LM60ZLTGSZT  html-slider-response   \n",
       "...                                                                         ...   \n",
       "10          A3GHPWV5J07UE8:3WAKVUDHUX4U7B2DWOC2ANPOWEG7UM  html-slider-response   \n",
       "14          A3GHPWV5J07UE8:3WAKVUDHUX4U7B2DWOC2ANPOWEG7UM  html-slider-response   \n",
       "18          A3GHPWV5J07UE8:3WAKVUDHUX4U7B2DWOC2ANPOWEG7UM  html-slider-response   \n",
       "22          A3GHPWV5J07UE8:3WAKVUDHUX4U7B2DWOC2ANPOWEG7UM  html-slider-response   \n",
       "26          A3GHPWV5J07UE8:3WAKVUDHUX4U7B2DWOC2ANPOWEG7UM  html-slider-response   \n",
       "\n",
       "                                                              rt  \\\n",
       "trial_index uniqueid                                               \n",
       "6           A270HX8LH9LJ8W:33LK57MYLUTXC8GFQE9LM60ZLTGSZT  12084   \n",
       "10          A270HX8LH9LJ8W:33LK57MYLUTXC8GFQE9LM60ZLTGSZT   8175   \n",
       "14          A270HX8LH9LJ8W:33LK57MYLUTXC8GFQE9LM60ZLTGSZT   7982   \n",
       "18          A270HX8LH9LJ8W:33LK57MYLUTXC8GFQE9LM60ZLTGSZT  13828   \n",
       "22          A270HX8LH9LJ8W:33LK57MYLUTXC8GFQE9LM60ZLTGSZT  16265   \n",
       "...                                                          ...   \n",
       "10          A3GHPWV5J07UE8:3WAKVUDHUX4U7B2DWOC2ANPOWEG7UM   4706   \n",
       "14          A3GHPWV5J07UE8:3WAKVUDHUX4U7B2DWOC2ANPOWEG7UM   9529   \n",
       "18          A3GHPWV5J07UE8:3WAKVUDHUX4U7B2DWOC2ANPOWEG7UM   8759   \n",
       "22          A3GHPWV5J07UE8:3WAKVUDHUX4U7B2DWOC2ANPOWEG7UM   5456   \n",
       "26          A3GHPWV5J07UE8:3WAKVUDHUX4U7B2DWOC2ANPOWEG7UM   4928   \n",
       "\n",
       "                                                          internal_node_id  \\\n",
       "trial_index uniqueid                                                         \n",
       "6           A270HX8LH9LJ8W:33LK57MYLUTXC8GFQE9LM60ZLTGSZT      0.0-3.0-3.0   \n",
       "10          A270HX8LH9LJ8W:33LK57MYLUTXC8GFQE9LM60ZLTGSZT      0.0-4.0-3.0   \n",
       "14          A270HX8LH9LJ8W:33LK57MYLUTXC8GFQE9LM60ZLTGSZT      0.0-5.0-3.0   \n",
       "18          A270HX8LH9LJ8W:33LK57MYLUTXC8GFQE9LM60ZLTGSZT      0.0-6.0-3.0   \n",
       "22          A270HX8LH9LJ8W:33LK57MYLUTXC8GFQE9LM60ZLTGSZT      0.0-7.0-3.0   \n",
       "...                                                                    ...   \n",
       "10          A3GHPWV5J07UE8:3WAKVUDHUX4U7B2DWOC2ANPOWEG7UM      0.0-4.0-3.0   \n",
       "14          A3GHPWV5J07UE8:3WAKVUDHUX4U7B2DWOC2ANPOWEG7UM      0.0-5.0-3.0   \n",
       "18          A3GHPWV5J07UE8:3WAKVUDHUX4U7B2DWOC2ANPOWEG7UM      0.0-6.0-3.0   \n",
       "22          A3GHPWV5J07UE8:3WAKVUDHUX4U7B2DWOC2ANPOWEG7UM      0.0-7.0-3.0   \n",
       "26          A3GHPWV5J07UE8:3WAKVUDHUX4U7B2DWOC2ANPOWEG7UM      0.0-8.0-3.0   \n",
       "\n",
       "                                                          stage  item_idx  \\\n",
       "trial_index uniqueid                                                        \n",
       "6           A270HX8LH9LJ8W:33LK57MYLUTXC8GFQE9LM60ZLTGSZT  test       2.0   \n",
       "10          A270HX8LH9LJ8W:33LK57MYLUTXC8GFQE9LM60ZLTGSZT  test      11.0   \n",
       "14          A270HX8LH9LJ8W:33LK57MYLUTXC8GFQE9LM60ZLTGSZT  test      12.0   \n",
       "18          A270HX8LH9LJ8W:33LK57MYLUTXC8GFQE9LM60ZLTGSZT  test      15.0   \n",
       "22          A270HX8LH9LJ8W:33LK57MYLUTXC8GFQE9LM60ZLTGSZT  test      16.0   \n",
       "...                                                         ...       ...   \n",
       "10          A3GHPWV5J07UE8:3WAKVUDHUX4U7B2DWOC2ANPOWEG7UM  test      10.0   \n",
       "14          A3GHPWV5J07UE8:3WAKVUDHUX4U7B2DWOC2ANPOWEG7UM  test      11.0   \n",
       "18          A3GHPWV5J07UE8:3WAKVUDHUX4U7B2DWOC2ANPOWEG7UM  test      12.0   \n",
       "22          A3GHPWV5J07UE8:3WAKVUDHUX4U7B2DWOC2ANPOWEG7UM  test      13.0   \n",
       "26          A3GHPWV5J07UE8:3WAKVUDHUX4U7B2DWOC2ANPOWEG7UM  test      17.0   \n",
       "\n",
       "                                                           ... survey_answer  \\\n",
       "trial_index uniqueid                                       ...                 \n",
       "6           A270HX8LH9LJ8W:33LK57MYLUTXC8GFQE9LM60ZLTGSZT  ...           NaN   \n",
       "10          A270HX8LH9LJ8W:33LK57MYLUTXC8GFQE9LM60ZLTGSZT  ...           NaN   \n",
       "14          A270HX8LH9LJ8W:33LK57MYLUTXC8GFQE9LM60ZLTGSZT  ...           NaN   \n",
       "18          A270HX8LH9LJ8W:33LK57MYLUTXC8GFQE9LM60ZLTGSZT  ...           NaN   \n",
       "22          A270HX8LH9LJ8W:33LK57MYLUTXC8GFQE9LM60ZLTGSZT  ...           NaN   \n",
       "...                                                        ...           ...   \n",
       "10          A3GHPWV5J07UE8:3WAKVUDHUX4U7B2DWOC2ANPOWEG7UM  ...           NaN   \n",
       "14          A3GHPWV5J07UE8:3WAKVUDHUX4U7B2DWOC2ANPOWEG7UM  ...           NaN   \n",
       "18          A3GHPWV5J07UE8:3WAKVUDHUX4U7B2DWOC2ANPOWEG7UM  ...           NaN   \n",
       "22          A3GHPWV5J07UE8:3WAKVUDHUX4U7B2DWOC2ANPOWEG7UM  ...           NaN   \n",
       "26          A3GHPWV5J07UE8:3WAKVUDHUX4U7B2DWOC2ANPOWEG7UM  ...           NaN   \n",
       "\n",
       "                                                          is_train_trial  \\\n",
       "trial_index uniqueid                                                       \n",
       "6           A270HX8LH9LJ8W:33LK57MYLUTXC8GFQE9LM60ZLTGSZT          False   \n",
       "10          A270HX8LH9LJ8W:33LK57MYLUTXC8GFQE9LM60ZLTGSZT          False   \n",
       "14          A270HX8LH9LJ8W:33LK57MYLUTXC8GFQE9LM60ZLTGSZT          False   \n",
       "18          A270HX8LH9LJ8W:33LK57MYLUTXC8GFQE9LM60ZLTGSZT          False   \n",
       "22          A270HX8LH9LJ8W:33LK57MYLUTXC8GFQE9LM60ZLTGSZT          False   \n",
       "...                                                                  ...   \n",
       "10          A3GHPWV5J07UE8:3WAKVUDHUX4U7B2DWOC2ANPOWEG7UM          False   \n",
       "14          A3GHPWV5J07UE8:3WAKVUDHUX4U7B2DWOC2ANPOWEG7UM          False   \n",
       "18          A3GHPWV5J07UE8:3WAKVUDHUX4U7B2DWOC2ANPOWEG7UM          False   \n",
       "22          A3GHPWV5J07UE8:3WAKVUDHUX4U7B2DWOC2ANPOWEG7UM          False   \n",
       "26          A3GHPWV5J07UE8:3WAKVUDHUX4U7B2DWOC2ANPOWEG7UM          False   \n",
       "\n",
       "                                                          is_test_trial  \\\n",
       "trial_index uniqueid                                                      \n",
       "6           A270HX8LH9LJ8W:33LK57MYLUTXC8GFQE9LM60ZLTGSZT          True   \n",
       "10          A270HX8LH9LJ8W:33LK57MYLUTXC8GFQE9LM60ZLTGSZT          True   \n",
       "14          A270HX8LH9LJ8W:33LK57MYLUTXC8GFQE9LM60ZLTGSZT          True   \n",
       "18          A270HX8LH9LJ8W:33LK57MYLUTXC8GFQE9LM60ZLTGSZT          True   \n",
       "22          A270HX8LH9LJ8W:33LK57MYLUTXC8GFQE9LM60ZLTGSZT          True   \n",
       "...                                                                 ...   \n",
       "10          A3GHPWV5J07UE8:3WAKVUDHUX4U7B2DWOC2ANPOWEG7UM          True   \n",
       "14          A3GHPWV5J07UE8:3WAKVUDHUX4U7B2DWOC2ANPOWEG7UM          True   \n",
       "18          A3GHPWV5J07UE8:3WAKVUDHUX4U7B2DWOC2ANPOWEG7UM          True   \n",
       "22          A3GHPWV5J07UE8:3WAKVUDHUX4U7B2DWOC2ANPOWEG7UM          True   \n",
       "26          A3GHPWV5J07UE8:3WAKVUDHUX4U7B2DWOC2ANPOWEG7UM          True   \n",
       "\n",
       "                                                          distance_from_correct  \\\n",
       "trial_index uniqueid                                                              \n",
       "6           A270HX8LH9LJ8W:33LK57MYLUTXC8GFQE9LM60ZLTGSZT                   -79   \n",
       "10          A270HX8LH9LJ8W:33LK57MYLUTXC8GFQE9LM60ZLTGSZT                    -7   \n",
       "14          A270HX8LH9LJ8W:33LK57MYLUTXC8GFQE9LM60ZLTGSZT                   -87   \n",
       "18          A270HX8LH9LJ8W:33LK57MYLUTXC8GFQE9LM60ZLTGSZT                    75   \n",
       "22          A270HX8LH9LJ8W:33LK57MYLUTXC8GFQE9LM60ZLTGSZT                    -9   \n",
       "...                                                                         ...   \n",
       "10          A3GHPWV5J07UE8:3WAKVUDHUX4U7B2DWOC2ANPOWEG7UM                     0   \n",
       "14          A3GHPWV5J07UE8:3WAKVUDHUX4U7B2DWOC2ANPOWEG7UM                  -100   \n",
       "18          A3GHPWV5J07UE8:3WAKVUDHUX4U7B2DWOC2ANPOWEG7UM                   100   \n",
       "22          A3GHPWV5J07UE8:3WAKVUDHUX4U7B2DWOC2ANPOWEG7UM                     0   \n",
       "26          A3GHPWV5J07UE8:3WAKVUDHUX4U7B2DWOC2ANPOWEG7UM                     0   \n",
       "\n",
       "                                                          correct  \\\n",
       "trial_index uniqueid                                                \n",
       "6           A270HX8LH9LJ8W:33LK57MYLUTXC8GFQE9LM60ZLTGSZT   False   \n",
       "10          A270HX8LH9LJ8W:33LK57MYLUTXC8GFQE9LM60ZLTGSZT    True   \n",
       "14          A270HX8LH9LJ8W:33LK57MYLUTXC8GFQE9LM60ZLTGSZT   False   \n",
       "18          A270HX8LH9LJ8W:33LK57MYLUTXC8GFQE9LM60ZLTGSZT   False   \n",
       "22          A270HX8LH9LJ8W:33LK57MYLUTXC8GFQE9LM60ZLTGSZT    True   \n",
       "...                                                           ...   \n",
       "10          A3GHPWV5J07UE8:3WAKVUDHUX4U7B2DWOC2ANPOWEG7UM    True   \n",
       "14          A3GHPWV5J07UE8:3WAKVUDHUX4U7B2DWOC2ANPOWEG7UM   False   \n",
       "18          A3GHPWV5J07UE8:3WAKVUDHUX4U7B2DWOC2ANPOWEG7UM   False   \n",
       "22          A3GHPWV5J07UE8:3WAKVUDHUX4U7B2DWOC2ANPOWEG7UM    True   \n",
       "26          A3GHPWV5J07UE8:3WAKVUDHUX4U7B2DWOC2ANPOWEG7UM    True   \n",
       "\n",
       "                                                                   scenes_hash  \\\n",
       "trial_index uniqueid                                                             \n",
       "6           A270HX8LH9LJ8W:33LK57MYLUTXC8GFQE9LM60ZLTGSZT  1673829668028560981   \n",
       "10          A270HX8LH9LJ8W:33LK57MYLUTXC8GFQE9LM60ZLTGSZT  1680171701720776756   \n",
       "14          A270HX8LH9LJ8W:33LK57MYLUTXC8GFQE9LM60ZLTGSZT  1161387334540989781   \n",
       "18          A270HX8LH9LJ8W:33LK57MYLUTXC8GFQE9LM60ZLTGSZT  1162342923881660506   \n",
       "22          A270HX8LH9LJ8W:33LK57MYLUTXC8GFQE9LM60ZLTGSZT  1670995629197301806   \n",
       "...                                                                        ...   \n",
       "10          A3GHPWV5J07UE8:3WAKVUDHUX4U7B2DWOC2ANPOWEG7UM  1667583196323241031   \n",
       "14          A3GHPWV5J07UE8:3WAKVUDHUX4U7B2DWOC2ANPOWEG7UM  1680171701720776756   \n",
       "18          A3GHPWV5J07UE8:3WAKVUDHUX4U7B2DWOC2ANPOWEG7UM  1161387334540989781   \n",
       "22          A3GHPWV5J07UE8:3WAKVUDHUX4U7B2DWOC2ANPOWEG7UM  1697230157293314081   \n",
       "26          A3GHPWV5J07UE8:3WAKVUDHUX4U7B2DWOC2ANPOWEG7UM  4448077016628655581   \n",
       "\n",
       "                                                                sentences_hash  \\\n",
       "trial_index uniqueid                                                             \n",
       "6           A270HX8LH9LJ8W:33LK57MYLUTXC8GFQE9LM60ZLTGSZT  1478743704822824840   \n",
       "10          A270HX8LH9LJ8W:33LK57MYLUTXC8GFQE9LM60ZLTGSZT  4918371552111408621   \n",
       "14          A270HX8LH9LJ8W:33LK57MYLUTXC8GFQE9LM60ZLTGSZT  9071679886212293147   \n",
       "18          A270HX8LH9LJ8W:33LK57MYLUTXC8GFQE9LM60ZLTGSZT -7174465927499887714   \n",
       "22          A270HX8LH9LJ8W:33LK57MYLUTXC8GFQE9LM60ZLTGSZT -6243990526409178309   \n",
       "...                                                                        ...   \n",
       "10          A3GHPWV5J07UE8:3WAKVUDHUX4U7B2DWOC2ANPOWEG7UM  1010983940740821923   \n",
       "14          A3GHPWV5J07UE8:3WAKVUDHUX4U7B2DWOC2ANPOWEG7UM -7201759691126902053   \n",
       "18          A3GHPWV5J07UE8:3WAKVUDHUX4U7B2DWOC2ANPOWEG7UM  9071679886212293147   \n",
       "22          A3GHPWV5J07UE8:3WAKVUDHUX4U7B2DWOC2ANPOWEG7UM  8162657654997576422   \n",
       "26          A3GHPWV5J07UE8:3WAKVUDHUX4U7B2DWOC2ANPOWEG7UM  4074901683448947425   \n",
       "\n",
       "                                                           subject_posterior  \\\n",
       "trial_index uniqueid                                                           \n",
       "6           A270HX8LH9LJ8W:33LK57MYLUTXC8GFQE9LM60ZLTGSZT              0.105   \n",
       "10          A270HX8LH9LJ8W:33LK57MYLUTXC8GFQE9LM60ZLTGSZT              0.465   \n",
       "14          A270HX8LH9LJ8W:33LK57MYLUTXC8GFQE9LM60ZLTGSZT              0.065   \n",
       "18          A270HX8LH9LJ8W:33LK57MYLUTXC8GFQE9LM60ZLTGSZT              0.875   \n",
       "22          A270HX8LH9LJ8W:33LK57MYLUTXC8GFQE9LM60ZLTGSZT              0.455   \n",
       "...                                                                      ...   \n",
       "10          A3GHPWV5J07UE8:3WAKVUDHUX4U7B2DWOC2ANPOWEG7UM              0.500   \n",
       "14          A3GHPWV5J07UE8:3WAKVUDHUX4U7B2DWOC2ANPOWEG7UM              0.000   \n",
       "18          A3GHPWV5J07UE8:3WAKVUDHUX4U7B2DWOC2ANPOWEG7UM              1.000   \n",
       "22          A3GHPWV5J07UE8:3WAKVUDHUX4U7B2DWOC2ANPOWEG7UM              0.500   \n",
       "26          A3GHPWV5J07UE8:3WAKVUDHUX4U7B2DWOC2ANPOWEG7UM              0.500   \n",
       "\n",
       "                                                           response_zscore  \\\n",
       "trial_index uniqueid                                                         \n",
       "6           A270HX8LH9LJ8W:33LK57MYLUTXC8GFQE9LM60ZLTGSZT         0.692062   \n",
       "10          A270HX8LH9LJ8W:33LK57MYLUTXC8GFQE9LM60ZLTGSZT        -1.056305   \n",
       "14          A270HX8LH9LJ8W:33LK57MYLUTXC8GFQE9LM60ZLTGSZT         0.886324   \n",
       "18          A270HX8LH9LJ8W:33LK57MYLUTXC8GFQE9LM60ZLTGSZT        -0.619213   \n",
       "22          A270HX8LH9LJ8W:33LK57MYLUTXC8GFQE9LM60ZLTGSZT        -1.007739   \n",
       "...                                                                    ...   \n",
       "10          A3GHPWV5J07UE8:3WAKVUDHUX4U7B2DWOC2ANPOWEG7UM         0.408248   \n",
       "14          A3GHPWV5J07UE8:3WAKVUDHUX4U7B2DWOC2ANPOWEG7UM         0.408248   \n",
       "18          A3GHPWV5J07UE8:3WAKVUDHUX4U7B2DWOC2ANPOWEG7UM        -2.041241   \n",
       "22          A3GHPWV5J07UE8:3WAKVUDHUX4U7B2DWOC2ANPOWEG7UM         0.408248   \n",
       "26          A3GHPWV5J07UE8:3WAKVUDHUX4U7B2DWOC2ANPOWEG7UM         0.408248   \n",
       "\n",
       "                                                           distance_from_correct_zscore  \n",
       "trial_index uniqueid                                                                     \n",
       "6           A270HX8LH9LJ8W:33LK57MYLUTXC8GFQE9LM60ZLTGSZT                     -0.682266  \n",
       "10          A270HX8LH9LJ8W:33LK57MYLUTXC8GFQE9LM60ZLTGSZT                      0.405332  \n",
       "14          A270HX8LH9LJ8W:33LK57MYLUTXC8GFQE9LM60ZLTGSZT                     -0.803110  \n",
       "18          A270HX8LH9LJ8W:33LK57MYLUTXC8GFQE9LM60ZLTGSZT                      1.643984  \n",
       "22          A270HX8LH9LJ8W:33LK57MYLUTXC8GFQE9LM60ZLTGSZT                      0.375120  \n",
       "...                                                                                 ...  \n",
       "10          A3GHPWV5J07UE8:3WAKVUDHUX4U7B2DWOC2ANPOWEG7UM                      0.000000  \n",
       "14          A3GHPWV5J07UE8:3WAKVUDHUX4U7B2DWOC2ANPOWEG7UM                     -1.581139  \n",
       "18          A3GHPWV5J07UE8:3WAKVUDHUX4U7B2DWOC2ANPOWEG7UM                      1.581139  \n",
       "22          A3GHPWV5J07UE8:3WAKVUDHUX4U7B2DWOC2ANPOWEG7UM                      0.000000  \n",
       "26          A3GHPWV5J07UE8:3WAKVUDHUX4U7B2DWOC2ANPOWEG7UM                      0.000000  \n",
       "\n",
       "[234 rows x 26 columns]"
      ]
     },
     "execution_count": 156,
     "metadata": {},
     "output_type": "execute_result"
    }
   ],
   "source": [
    "test_trials_df"
   ]
  },
  {
   "cell_type": "code",
   "execution_count": 157,
   "metadata": {},
   "outputs": [],
   "source": [
    "model_predictions = pd.read_csv(\"data/model_predictions.csv\",\n",
    "                                converters={\"scene_set\": ast.literal_eval,\n",
    "                                            \"frame_set\": ast.literal_eval,\n",
    "                                            \"sentence_set\": ast.literal_eval})"
   ]
  },
  {
   "cell_type": "code",
   "execution_count": 158,
   "metadata": {},
   "outputs": [
    {
     "data": {
      "text/plain": [
       "trial_index  uniqueid                                     \n",
       "6            A270HX8LH9LJ8W:33LK57MYLUTXC8GFQE9LM60ZLTGSZT    1141429956970501381\n",
       "10           A270HX8LH9LJ8W:33LK57MYLUTXC8GFQE9LM60ZLTGSZT    1157575664022073006\n",
       "14           A270HX8LH9LJ8W:33LK57MYLUTXC8GFQE9LM60ZLTGSZT    1161387334540989781\n",
       "18           A270HX8LH9LJ8W:33LK57MYLUTXC8GFQE9LM60ZLTGSZT    1171023682804586456\n",
       "22           A270HX8LH9LJ8W:33LK57MYLUTXC8GFQE9LM60ZLTGSZT    1160764351162452656\n",
       "                                                                     ...         \n",
       "10           A3GHPWV5J07UE8:3WAKVUDHUX4U7B2DWOC2ANPOWEG7UM    1667583196323241031\n",
       "14           A3GHPWV5J07UE8:3WAKVUDHUX4U7B2DWOC2ANPOWEG7UM    1157575664022073006\n",
       "18           A3GHPWV5J07UE8:3WAKVUDHUX4U7B2DWOC2ANPOWEG7UM    1185389385949002181\n",
       "22           A3GHPWV5J07UE8:3WAKVUDHUX4U7B2DWOC2ANPOWEG7UM    1697230157293314081\n",
       "26           A3GHPWV5J07UE8:3WAKVUDHUX4U7B2DWOC2ANPOWEG7UM    4448077016628655581\n",
       "Name: scenes, Length: 234, dtype: int64"
      ]
     },
     "execution_count": 158,
     "metadata": {},
     "output_type": "execute_result"
    }
   ],
   "source": [
    "test_trials_df.scenes.transform(tuple).transform(hash)"
   ]
  },
  {
   "cell_type": "code",
   "execution_count": 159,
   "metadata": {},
   "outputs": [
    {
     "data": {
      "text/plain": [
       "0              (2377225,)\n",
       "1              (2377225,)\n",
       "2              (2407876,)\n",
       "3              (2407876,)\n",
       "4      (2377225, 2407876)\n",
       "              ...        \n",
       "155            (2412017,)\n",
       "156            (2412017,)\n",
       "157             (713937,)\n",
       "158             (713937,)\n",
       "159     (2412017, 713937)\n",
       "Name: scene_set, Length: 160, dtype: object"
      ]
     },
     "execution_count": 159,
     "metadata": {},
     "output_type": "execute_result"
    }
   ],
   "source": [
    "model_predictions.scene_set"
   ]
  },
  {
   "cell_type": "code",
   "execution_count": 160,
   "metadata": {},
   "outputs": [
    {
     "name": "stderr",
     "output_type": "stream",
     "text": [
      "/opt/conda/lib/python3.7/site-packages/ipykernel_launcher.py:4: SettingWithCopyWarning: \n",
      "A value is trying to be set on a copy of a slice from a DataFrame.\n",
      "Try using .loc[row_indexer,col_indexer] = value instead\n",
      "\n",
      "See the caveats in the documentation: http://pandas.pydata.org/pandas-docs/stable/user_guide/indexing.html#returning-a-view-versus-a-copy\n",
      "  after removing the cwd from sys.path.\n",
      "/opt/conda/lib/python3.7/site-packages/ipykernel_launcher.py:6: SettingWithCopyWarning: \n",
      "A value is trying to be set on a copy of a slice from a DataFrame.\n",
      "Try using .loc[row_indexer,col_indexer] = value instead\n",
      "\n",
      "See the caveats in the documentation: http://pandas.pydata.org/pandas-docs/stable/user_guide/indexing.html#returning-a-view-versus-a-copy\n",
      "  \n"
     ]
    }
   ],
   "source": [
    "# HACK: We want to join these two dfs on tuple-valued keys (e.g. the set of scenes observed by the subject/model).\n",
    "# So we'll hash the sets and join on those keys instead.\n",
    "model_predictions[\"sentences_hash\"] = model_predictions.sentence_set.transform(sorted).transform(tuple).transform(hash)\n",
    "test_trials_df[\"sentences_hash\"] = test_trials_df.sentences.transform(sorted).transform(tuple).transform(hash)\n",
    "model_predictions[\"scenes_hash\"] = model_predictions.scene_set.transform(sorted).transform(tuple).transform(hash)\n",
    "test_trials_df[\"scenes_hash\"] = test_trials_df.scenes.transform(sorted).transform(tuple).transform(hash)"
   ]
  },
  {
   "cell_type": "code",
   "execution_count": 175,
   "metadata": {},
   "outputs": [
    {
     "name": "stderr",
     "output_type": "stream",
     "text": [
      "/opt/conda/lib/python3.7/site-packages/ipykernel_launcher.py:2: SettingWithCopyWarning: \n",
      "A value is trying to be set on a copy of a slice from a DataFrame.\n",
      "Try using .loc[row_indexer,col_indexer] = value instead\n",
      "\n",
      "See the caveats in the documentation: http://pandas.pydata.org/pandas-docs/stable/user_guide/indexing.html#returning-a-view-versus-a-copy\n",
      "  \n",
      "/opt/conda/lib/python3.7/site-packages/ipykernel_launcher.py:3: SettingWithCopyWarning: \n",
      "A value is trying to be set on a copy of a slice from a DataFrame.\n",
      "Try using .loc[row_indexer,col_indexer] = value instead\n",
      "\n",
      "See the caveats in the documentation: http://pandas.pydata.org/pandas-docs/stable/user_guide/indexing.html#returning-a-view-versus-a-copy\n",
      "  This is separate from the ipykernel package so we can avoid doing imports until\n"
     ]
    }
   ],
   "source": [
    "# Coerce slider into p(verb)\n",
    "test_trials_df[\"subject_posterior\"] = (test_trials_df[\"distance_from_correct\"] + 100) / 200\n",
    "test_trials_df[\"subject_zscore_posterior\"] = (test_trials_df.distance_from_correct_zscore - test_trials_df.distance_from_correct_zscore.min()) / (test_trials_df.distance_from_correct_zscore.max() - test_trials_df.distance_from_correct_zscore.min())"
   ]
  },
  {
   "cell_type": "code",
   "execution_count": 176,
   "metadata": {},
   "outputs": [],
   "source": [
    "merged = pd.merge(test_trials_df.reset_index(), model_predictions, how=\"left\",\n",
    "                  on=(\"item_idx\", \"verb\", \"scenes_hash\", \"sentences_hash\"))"
   ]
  },
  {
   "cell_type": "code",
   "execution_count": 177,
   "metadata": {},
   "outputs": [],
   "source": [
    "merged_avg = merged.groupby([\"item_idx\", \"verb\", \"condition\"])[\"subject_posterior\", \"distance_from_correct_zscore\", \"subject_zscore_posterior\",\n",
    "                                                               \"posterior\", \"posterior_frame_only\", \"posterior_scene_only\"].agg([\"mean\", \"std\"])\n",
    "merged_avg.columns = merged_avg.columns.map(lambda x: \"_\".join(x))"
   ]
  },
  {
   "cell_type": "code",
   "execution_count": 178,
   "metadata": {},
   "outputs": [
    {
     "data": {
      "text/plain": [
       "<seaborn.axisgrid.FacetGrid at 0x2b021b9b6eb8>"
      ]
     },
     "execution_count": 178,
     "metadata": {},
     "output_type": "execute_result"
    },
    {
     "data": {
      "image/png": "[encoded data removed]",
      "text/plain": [
       "<Figure size 432x216 with 2 Axes>"
      ]
     },
     "metadata": {
      "needs_background": "light"
     },
     "output_type": "display_data"
    }
   ],
   "source": [
    "g = sns.FacetGrid(data=merged, col=\"condition\", hue=\"uniqueid\")\n",
    "g.map(sns.scatterplot, \"subject_posterior\", \"posterior\")"
   ]
  },
  {
   "cell_type": "code",
   "execution_count": 179,
   "metadata": {},
   "outputs": [
    {
     "data": {
      "text/plain": [
       "<seaborn.axisgrid.FacetGrid at 0x2b021b7c4d68>"
      ]
     },
     "execution_count": 179,
     "metadata": {},
     "output_type": "execute_result"
    },
    {
     "data": {
      "image/png": "[encoded data removed]",
      "text/plain": [
       "<Figure size 432x216 with 2 Axes>"
      ]
     },
     "metadata": {
      "needs_background": "light"
     },
     "output_type": "display_data"
    }
   ],
   "source": [
    "g = sns.FacetGrid(data=merged, col=\"condition\", hue=\"uniqueid\")\n",
    "g.map(sns.scatterplot, \"subject_zscore_posterior\", \"posterior\")"
   ]
  },
  {
   "cell_type": "code",
   "execution_count": 180,
   "metadata": {},
   "outputs": [
    {
     "data": {
      "text/plain": [
       "<seaborn.axisgrid.FacetGrid at 0x2b021b8412b0>"
      ]
     },
     "execution_count": 180,
     "metadata": {},
     "output_type": "execute_result"
    },
    {
     "data": {
      "image/png": "[encoded data removed]",
      "text/plain": [
       "<Figure size 432x216 with 2 Axes>"
      ]
     },
     "metadata": {
      "needs_background": "light"
     },
     "output_type": "display_data"
    }
   ],
   "source": [
    "g = sns.FacetGrid(data=merged_avg.reset_index(), col=\"condition\")\n",
    "g.map(sns.scatterplot, \"subject_posterior_mean\", \"posterior_mean\")"
   ]
  },
  {
   "cell_type": "code",
   "execution_count": 181,
   "metadata": {},
   "outputs": [
    {
     "data": {
      "text/plain": [
       "<seaborn.axisgrid.FacetGrid at 0x2b021bb296d8>"
      ]
     },
     "execution_count": 181,
     "metadata": {},
     "output_type": "execute_result"
    },
    {
     "data": {
      "image/png": "[encoded data removed]",
      "text/plain": [
       "<Figure size 432x216 with 2 Axes>"
      ]
     },
     "metadata": {
      "needs_background": "light"
     },
     "output_type": "display_data"
    }
   ],
   "source": [
    "g = sns.FacetGrid(data=merged_avg.reset_index(), col=\"condition\")\n",
    "g.map(sns.scatterplot, \"subject_zscore_posterior_mean\", \"posterior_mean\")"
   ]
  },
  {
   "cell_type": "markdown",
   "metadata": {},
   "source": [
    "---"
   ]
  },
  {
   "cell_type": "code",
   "execution_count": 183,
   "metadata": {},
   "outputs": [
    {
     "data": {
      "text/plain": [
       "<seaborn.axisgrid.FacetGrid at 0x2b021b740588>"
      ]
     },
     "execution_count": 183,
     "metadata": {},
     "output_type": "execute_result"
    },
    {
     "data": {
      "image/png": "[encoded data removed]",
      "text/plain": [
       "<Figure size 432x216 with 2 Axes>"
      ]
     },
     "metadata": {
      "needs_background": "light"
     },
     "output_type": "display_data"
    }
   ],
   "source": [
    "g = sns.FacetGrid(data=merged_avg.reset_index(), col=\"condition\")\n",
    "g.map(sns.scatterplot, \"subject_posterior_mean\", \"posterior_scene_only_mean\")"
   ]
  },
  {
   "cell_type": "code",
   "execution_count": 187,
   "metadata": {},
   "outputs": [
    {
     "data": {
      "text/plain": [
       "<seaborn.axisgrid.FacetGrid at 0x2b021bbbb358>"
      ]
     },
     "execution_count": 187,
     "metadata": {},
     "output_type": "execute_result"
    },
    {
     "data": {
      "image/png": "[encoded data removed]",
      "text/plain": [
       "<Figure size 432x216 with 2 Axes>"
      ]
     },
     "metadata": {
      "needs_background": "light"
     },
     "output_type": "display_data"
    }
   ],
   "source": [
    "g = sns.FacetGrid(data=merged_avg.reset_index(), col=\"condition\")\n",
    "g.map(sns.scatterplot, \"subject_zscore_posterior_mean\", \"posterior_scene_only_mean\")"
   ]
  }
 ],
 "metadata": {
  "kernelspec": {
   "display_name": "Python 3",
   "language": "python",
   "name": "python3"
  },
  "language_info": {
   "codemirror_mode": {
    "name": "ipython",
    "version": 3
   },
   "file_extension": ".py",
   "mimetype": "text/x-python",
   "name": "python",
   "nbconvert_exporter": "python",
   "pygments_lexer": "ipython3",
   "version": "3.7.3"
  }
 },
 "nbformat": 4,
 "nbformat_minor": 4
}
